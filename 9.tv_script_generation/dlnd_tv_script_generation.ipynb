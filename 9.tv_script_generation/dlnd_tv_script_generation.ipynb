{
 "cells": [
  {
   "cell_type": "markdown",
   "metadata": {
    "deletable": true,
    "editable": true
   },
   "source": [
    "# TV Script Generation\n",
    "In this project, you'll generate your own [Simpsons](https://en.wikipedia.org/wiki/The_Simpsons) TV scripts using RNNs.  You'll be using part of the [Simpsons dataset](https://www.kaggle.com/wcukierski/the-simpsons-by-the-data) of scripts from 27 seasons.  The Neural Network you'll build will generate a new TV script for a scene at [Moe's Tavern](https://simpsonswiki.com/wiki/Moe's_Tavern).\n",
    "## Get the Data\n",
    "The data is already provided for you.  You'll be using a subset of the original dataset.  It consists of only the scenes in Moe's Tavern.  This doesn't include other versions of the tavern, like \"Moe's Cavern\", \"Flaming Moe's\", \"Uncle Moe's Family Feed-Bag\", etc.."
   ]
  },
  {
   "cell_type": "code",
   "execution_count": 1,
   "metadata": {
    "collapsed": true,
    "deletable": true,
    "editable": true
   },
   "outputs": [],
   "source": [
    "\"\"\"\n",
    "DON'T MODIFY ANYTHING IN THIS CELL\n",
    "\"\"\"\n",
    "import helper\n",
    "\n",
    "data_dir = './data/simpsons/moes_tavern_lines.txt'\n",
    "text = helper.load_data(data_dir)\n",
    "# Ignore notice, since we don't use it for analysing the data\n",
    "text = text[81:]"
   ]
  },
  {
   "cell_type": "markdown",
   "metadata": {
    "deletable": true,
    "editable": true
   },
   "source": [
    "## Explore the Data\n",
    "Play around with `view_sentence_range` to view different parts of the data."
   ]
  },
  {
   "cell_type": "code",
   "execution_count": 2,
   "metadata": {
    "collapsed": false,
    "deletable": true,
    "editable": true
   },
   "outputs": [
    {
     "name": "stdout",
     "output_type": "stream",
     "text": [
      "Dataset Stats\n",
      "Roughly the number of unique words: 11491\n",
      "Number of scenes: 262\n",
      "Average number of sentences in each scene: 15.251908396946565\n",
      "Number of lines: 4258\n",
      "Average number of words in each line: 11.501409112259276\n",
      "\n",
      "The sentences 0 to 10:\n",
      "e_Szyslak: (INTO PHONE) Moe's Tavern. Where the elite meet to drink.\n",
      "Bart_Simpson: Eh, yeah, hello, is Mike there? Last name, Rotch.\n",
      "Moe_Szyslak: (INTO PHONE) Hold on, I'll check. (TO BARFLIES) Mike Rotch. Mike Rotch. Hey, has anybody seen Mike Rotch, lately?\n",
      "Moe_Szyslak: (INTO PHONE) Listen you little puke. One of these days I'm gonna catch you, and I'm gonna carve my name on your back with an ice pick.\n",
      "Moe_Szyslak: What's the matter Homer? You're not your normal effervescent self.\n",
      "Homer_Simpson: I got my problems, Moe. Give me another one.\n",
      "Moe_Szyslak: Homer, hey, you should not drink to forget your problems.\n",
      "Barney_Gumble: Yeah, you should only drink to enhance your social skills.\n",
      "\n",
      "\n"
     ]
    }
   ],
   "source": [
    "view_sentence_range = (0, 10)\n",
    "\n",
    "\"\"\"\n",
    "DON'T MODIFY ANYTHING IN THIS CELL\n",
    "\"\"\"\n",
    "import numpy as np\n",
    "\n",
    "print('Dataset Stats')\n",
    "print('Roughly the number of unique words: {}'.format(len({word: None for word in text.split()})))\n",
    "scenes = text.split('\\n\\n')\n",
    "print('Number of scenes: {}'.format(len(scenes)))\n",
    "sentence_count_scene = [scene.count('\\n') for scene in scenes]\n",
    "print('Average number of sentences in each scene: {}'.format(np.average(sentence_count_scene)))\n",
    "\n",
    "sentences = [sentence for scene in scenes for sentence in scene.split('\\n')]\n",
    "print('Number of lines: {}'.format(len(sentences)))\n",
    "word_count_sentence = [len(sentence.split()) for sentence in sentences]\n",
    "print('Average number of words in each line: {}'.format(np.average(word_count_sentence)))\n",
    "\n",
    "print()\n",
    "print('The sentences {} to {}:'.format(*view_sentence_range))\n",
    "print('\\n'.join(text.split('\\n')[view_sentence_range[0]:view_sentence_range[1]]))"
   ]
  },
  {
   "cell_type": "markdown",
   "metadata": {
    "deletable": true,
    "editable": true
   },
   "source": [
    "## Implement Preprocessing Functions\n",
    "The first thing to do to any dataset is preprocessing.  Implement the following preprocessing functions below:\n",
    "- Lookup Table\n",
    "- Tokenize Punctuation\n",
    "\n",
    "### Lookup Table\n",
    "To create a word embedding, you first need to transform the words to ids.  In this function, create two dictionaries:\n",
    "- Dictionary to go from the words to an id, we'll call `vocab_to_int`\n",
    "- Dictionary to go from the id to word, we'll call `int_to_vocab`\n",
    "\n",
    "Return these dictionaries in the following tuple `(vocab_to_int, int_to_vocab)`"
   ]
  },
  {
   "cell_type": "code",
   "execution_count": 3,
   "metadata": {
    "collapsed": false,
    "deletable": true,
    "editable": true
   },
   "outputs": [
    {
     "name": "stdout",
     "output_type": "stream",
     "text": [
      "Tests Passed\n"
     ]
    }
   ],
   "source": [
    "import numpy as np\n",
    "import problem_unittests as tests\n",
    "\n",
    "from collections import Counter\n",
    "\n",
    "def create_lookup_tables(text):\n",
    "    \"\"\"\n",
    "    Create lookup tables for vocabulary\n",
    "    :param text: The text of tv scripts split into words\n",
    "    :return: A tuple of dicts (vocab_to_int, int_to_vocab)\n",
    "    \"\"\"\n",
    "    # TODO: Implement Function\n",
    "    \n",
    "    vocab = Counter(text).most_common()\n",
    "\n",
    "    vocab_to_int = {w[0]:i for i,w in enumerate(vocab, start=1)}\n",
    "\n",
    "    int_to_vocab = {i:w[0] for i,w in enumerate(vocab, start=1)}\n",
    "    \n",
    "    return vocab_to_int, int_to_vocab\n",
    "\n",
    "\n",
    "\"\"\"\n",
    "DON'T MODIFY ANYTHING IN THIS CELL THAT IS BELOW THIS LINE\n",
    "\"\"\"\n",
    "tests.test_create_lookup_tables(create_lookup_tables)"
   ]
  },
  {
   "cell_type": "markdown",
   "metadata": {
    "deletable": true,
    "editable": true
   },
   "source": [
    "### Tokenize Punctuation\n",
    "We'll be splitting the script into a word array using spaces as delimiters.  However, punctuations like periods and exclamation marks make it hard for the neural network to distinguish between the word \"bye\" and \"bye!\".\n",
    "\n",
    "Implement the function `token_lookup` to return a dict that will be used to tokenize symbols like \"!\" into \"||Exclamation_Mark||\".  Create a dictionary for the following symbols where the symbol is the key and value is the token:\n",
    "- Period ( . )\n",
    "- Comma ( , )\n",
    "- Quotation Mark ( \" )\n",
    "- Semicolon ( ; )\n",
    "- Exclamation mark ( ! )\n",
    "- Question mark ( ? )\n",
    "- Left Parentheses ( ( )\n",
    "- Right Parentheses ( ) )\n",
    "- Dash ( -- )\n",
    "- Return ( \\n )\n",
    "\n",
    "This dictionary will be used to token the symbols and add the delimiter (space) around it.  This separates the symbols as it's own word, making it easier for the neural network to predict on the next word. Make sure you don't use a token that could be confused as a word. Instead of using the token \"dash\", try using something like \"||dash||\"."
   ]
  },
  {
   "cell_type": "code",
   "execution_count": 4,
   "metadata": {
    "collapsed": false,
    "deletable": true,
    "editable": true
   },
   "outputs": [
    {
     "name": "stdout",
     "output_type": "stream",
     "text": [
      "Tests Passed\n"
     ]
    }
   ],
   "source": [
    "def token_lookup():\n",
    "    \"\"\"\n",
    "    Generate a dict to turn punctuation into a token.\n",
    "    :return: Tokenize dictionary where the key is the punctuation and the value is the token\n",
    "    \"\"\"\n",
    "    # TODO: Implement Function\n",
    "    \n",
    "    ref = {\n",
    "        '.':'||Period||',\n",
    "        ',':'||Comma||',\n",
    "        '\"':'||Quotation_Mark||',\n",
    "        ';':'||Semicolon||',\n",
    "        '!':'||Exclamation_Mark||',\n",
    "        '?':'||Question_Mark||',\n",
    "        '(':'||Left_Parentheses||',\n",
    "        ')':'||Right_Parentheses||',\n",
    "        '--':'||Dash||',\n",
    "        '\\n':'||Return||'\n",
    "    }\n",
    "    \n",
    "    return ref\n",
    "\n",
    "\"\"\"\n",
    "DON'T MODIFY ANYTHING IN THIS CELL THAT IS BELOW THIS LINE\n",
    "\"\"\"\n",
    "tests.test_tokenize(token_lookup)"
   ]
  },
  {
   "cell_type": "markdown",
   "metadata": {
    "deletable": true,
    "editable": true
   },
   "source": [
    "## Preprocess all the data and save it\n",
    "Running the code cell below will preprocess all the data and save it to file."
   ]
  },
  {
   "cell_type": "code",
   "execution_count": 5,
   "metadata": {
    "collapsed": true,
    "deletable": true,
    "editable": true
   },
   "outputs": [],
   "source": [
    "\"\"\"\n",
    "DON'T MODIFY ANYTHING IN THIS CELL\n",
    "\"\"\"\n",
    "# Preprocess Training, Validation, and Testing Data\n",
    "helper.preprocess_and_save_data(data_dir, token_lookup, create_lookup_tables)"
   ]
  },
  {
   "cell_type": "markdown",
   "metadata": {
    "deletable": true,
    "editable": true
   },
   "source": [
    "# Check Point\n",
    "This is your first checkpoint. If you ever decide to come back to this notebook or have to restart the notebook, you can start from here. The preprocessed data has been saved to disk."
   ]
  },
  {
   "cell_type": "code",
   "execution_count": 6,
   "metadata": {
    "collapsed": true,
    "deletable": true,
    "editable": true
   },
   "outputs": [],
   "source": [
    "\"\"\"\n",
    "DON'T MODIFY ANYTHING IN THIS CELL\n",
    "\"\"\"\n",
    "import helper\n",
    "import numpy as np\n",
    "import problem_unittests as tests\n",
    "\n",
    "int_text, vocab_to_int, int_to_vocab, token_dict = helper.load_preprocess()"
   ]
  },
  {
   "cell_type": "markdown",
   "metadata": {
    "deletable": true,
    "editable": true
   },
   "source": [
    "## Build the Neural Network\n",
    "You'll build the components necessary to build a RNN by implementing the following functions below:\n",
    "- get_inputs\n",
    "- get_init_cell\n",
    "- get_embed\n",
    "- build_rnn\n",
    "- build_nn\n",
    "- get_batches\n",
    "\n",
    "### Check the Version of TensorFlow and Access to GPU"
   ]
  },
  {
   "cell_type": "code",
   "execution_count": 7,
   "metadata": {
    "collapsed": false,
    "deletable": true,
    "editable": true
   },
   "outputs": [
    {
     "name": "stdout",
     "output_type": "stream",
     "text": [
      "TensorFlow Version: 1.0.0\n",
      "Default GPU Device: /gpu:0\n"
     ]
    }
   ],
   "source": [
    "\"\"\"\n",
    "DON'T MODIFY ANYTHING IN THIS CELL\n",
    "\"\"\"\n",
    "from distutils.version import LooseVersion\n",
    "import warnings\n",
    "import tensorflow as tf\n",
    "\n",
    "# Check TensorFlow Version\n",
    "assert LooseVersion(tf.__version__) >= LooseVersion('1.0'), 'Please use TensorFlow version 1.0 or newer'\n",
    "print('TensorFlow Version: {}'.format(tf.__version__))\n",
    "\n",
    "# Check for a GPU\n",
    "if not tf.test.gpu_device_name():\n",
    "    warnings.warn('No GPU found. Please use a GPU to train your neural network.')\n",
    "else:\n",
    "    print('Default GPU Device: {}'.format(tf.test.gpu_device_name()))"
   ]
  },
  {
   "cell_type": "markdown",
   "metadata": {
    "deletable": true,
    "editable": true
   },
   "source": [
    "### Input\n",
    "Implement the `get_inputs()` function to create TF Placeholders for the Neural Network.  It should create the following placeholders:\n",
    "- Input text placeholder named \"input\" using the [TF Placeholder](https://www.tensorflow.org/api_docs/python/tf/placeholder) `name` parameter.\n",
    "- Targets placeholder\n",
    "- Learning Rate placeholder\n",
    "\n",
    "Return the placeholders in the following tuple `(Input, Targets, LearningRate)`"
   ]
  },
  {
   "cell_type": "code",
   "execution_count": 36,
   "metadata": {
    "collapsed": false,
    "deletable": true,
    "editable": true
   },
   "outputs": [
    {
     "name": "stdout",
     "output_type": "stream",
     "text": [
      "Tests Passed\n"
     ]
    }
   ],
   "source": [
    "def get_inputs():\n",
    "    \"\"\"\n",
    "    Create TF Placeholders for input, targets, and learning rate.\n",
    "    :return: Tuple (input, targets, learning rate)\n",
    "    \"\"\"\n",
    "    # TODO: Implement Function\n",
    "    \n",
    "    inputs = tf.placeholder(tf.int32, (None, None), name='input')\n",
    "    targets = tf.placeholder(tf.int32, (None, None), name='targets')\n",
    "    learning_rate = tf.placeholder(tf.float32, name='learning_rate')\n",
    "    \n",
    "    return inputs, targets, learning_rate\n",
    "\n",
    "\n",
    "\"\"\"\n",
    "DON'T MODIFY ANYTHING IN THIS CELL THAT IS BELOW THIS LINE\n",
    "\"\"\"\n",
    "tests.test_get_inputs(get_inputs)"
   ]
  },
  {
   "cell_type": "markdown",
   "metadata": {
    "deletable": true,
    "editable": true
   },
   "source": [
    "### Build RNN Cell and Initialize\n",
    "Stack one or more [`BasicLSTMCells`](https://www.tensorflow.org/api_docs/python/tf/contrib/rnn/BasicLSTMCell) in a [`MultiRNNCell`](https://www.tensorflow.org/api_docs/python/tf/contrib/rnn/MultiRNNCell).\n",
    "- The Rnn size should be set using `rnn_size`\n",
    "- Initalize Cell State using the MultiRNNCell's [`zero_state()`](https://www.tensorflow.org/api_docs/python/tf/contrib/rnn/MultiRNNCell#zero_state) function\n",
    "    - Apply the name \"initial_state\" to the initial state using [`tf.identity()`](https://www.tensorflow.org/api_docs/python/tf/identity)\n",
    "\n",
    "Return the cell and initial state in the following tuple `(Cell, InitialState)`"
   ]
  },
  {
   "cell_type": "code",
   "execution_count": 37,
   "metadata": {
    "collapsed": false,
    "deletable": true,
    "editable": true
   },
   "outputs": [
    {
     "name": "stdout",
     "output_type": "stream",
     "text": [
      "Tests Passed\n"
     ]
    }
   ],
   "source": [
    "def get_init_cell(batch_size, rnn_size):\n",
    "    \"\"\"\n",
    "    Create an RNN Cell and initialize it.\n",
    "    :param batch_size: Size of batches\n",
    "    :param rnn_size: Size of RNNs\n",
    "    :return: Tuple (cell, initialize state)\n",
    "    \"\"\"\n",
    "    # TODO: Implement Function\n",
    "    \n",
    "    lstm_layers = 1\n",
    "    \n",
    "    lstm = tf.contrib.rnn.BasicLSTMCell(rnn_size)\n",
    "    cell = tf.contrib.rnn.MultiRNNCell([lstm] * lstm_layers)\n",
    "    \n",
    "    initial_state = cell.zero_state(batch_size, tf.float32)\n",
    "    initial_state = tf.identity(initial_state, name='initial_state')\n",
    "    \n",
    "    return cell, initial_state\n",
    "\n",
    "\n",
    "\"\"\"\n",
    "DON'T MODIFY ANYTHING IN THIS CELL THAT IS BELOW THIS LINE\n",
    "\"\"\"\n",
    "tests.test_get_init_cell(get_init_cell)"
   ]
  },
  {
   "cell_type": "markdown",
   "metadata": {
    "deletable": true,
    "editable": true
   },
   "source": [
    "### Word Embedding\n",
    "Apply embedding to `input_data` using TensorFlow.  Return the embedded sequence."
   ]
  },
  {
   "cell_type": "code",
   "execution_count": 38,
   "metadata": {
    "collapsed": false,
    "deletable": true,
    "editable": true
   },
   "outputs": [
    {
     "name": "stdout",
     "output_type": "stream",
     "text": [
      "Tests Passed\n"
     ]
    }
   ],
   "source": [
    "def get_embed(input_data, vocab_size, embed_dim):\n",
    "    \"\"\"\n",
    "    Create embedding for <input_data>.\n",
    "    :param input_data: TF placeholder for text input.\n",
    "    :param vocab_size: Number of words in vocabulary.\n",
    "    :param embed_dim: Number of embedding dimensions\n",
    "    :return: Embedded input.\n",
    "    \"\"\"\n",
    "    # TODO: Implement Function\n",
    "    \n",
    "    embedding = tf.Variable(tf.random_uniform((vocab_size, embed_dim), -1, 1))\n",
    "    embed = tf.nn.embedding_lookup(embedding, input_data)\n",
    "    \n",
    "    return embed\n",
    "\n",
    "\n",
    "\"\"\"\n",
    "DON'T MODIFY ANYTHING IN THIS CELL THAT IS BELOW THIS LINE\n",
    "\"\"\"\n",
    "tests.test_get_embed(get_embed)"
   ]
  },
  {
   "cell_type": "markdown",
   "metadata": {
    "deletable": true,
    "editable": true
   },
   "source": [
    "### Build RNN\n",
    "You created a RNN Cell in the `get_init_cell()` function.  Time to use the cell to create a RNN.\n",
    "- Build the RNN using the [`tf.nn.dynamic_rnn()`](https://www.tensorflow.org/api_docs/python/tf/nn/dynamic_rnn)\n",
    " - Apply the name \"final_state\" to the final state using [`tf.identity()`](https://www.tensorflow.org/api_docs/python/tf/identity)\n",
    "\n",
    "Return the outputs and final_state state in the following tuple `(Outputs, FinalState)` "
   ]
  },
  {
   "cell_type": "code",
   "execution_count": 39,
   "metadata": {
    "collapsed": false,
    "deletable": true,
    "editable": true
   },
   "outputs": [
    {
     "name": "stdout",
     "output_type": "stream",
     "text": [
      "Tests Passed\n"
     ]
    }
   ],
   "source": [
    "def build_rnn(cell, inputs):\n",
    "    \"\"\"\n",
    "    Create a RNN using a RNN Cell\n",
    "    :param cell: RNN Cell\n",
    "    :param inputs: Input text data\n",
    "    :return: Tuple (Outputs, Final State)\n",
    "    \"\"\"\n",
    "    # TODO: Implement Function\n",
    "    \n",
    "    outputs, final_state = tf.nn.dynamic_rnn(cell, inputs, dtype=tf.float32)\n",
    "    \n",
    "    final_state = tf.identity(final_state, name='final_state')\n",
    "    \n",
    "    return outputs, final_state\n",
    "\n",
    "\n",
    "\"\"\"\n",
    "DON'T MODIFY ANYTHING IN THIS CELL THAT IS BELOW THIS LINE\n",
    "\"\"\"\n",
    "tests.test_build_rnn(build_rnn)"
   ]
  },
  {
   "cell_type": "markdown",
   "metadata": {
    "deletable": true,
    "editable": true
   },
   "source": [
    "### Build the Neural Network\n",
    "Apply the functions you implemented above to:\n",
    "- Apply embedding to `input_data` using your `get_embed(input_data, vocab_size, embed_dim)` function.\n",
    "- Build RNN using `cell` and your `build_rnn(cell, inputs)` function.\n",
    "- Apply a fully connected layer with a linear activation and `vocab_size` as the number of outputs.\n",
    "\n",
    "Return the logits and final state in the following tuple (Logits, FinalState) "
   ]
  },
  {
   "cell_type": "code",
   "execution_count": 40,
   "metadata": {
    "collapsed": false,
    "deletable": true,
    "editable": true
   },
   "outputs": [
    {
     "name": "stdout",
     "output_type": "stream",
     "text": [
      "Tests Passed\n"
     ]
    }
   ],
   "source": [
    "def build_nn(cell, rnn_size, input_data, vocab_size, embed_dim):\n",
    "    \"\"\"\n",
    "    Build part of the neural network\n",
    "    :param cell: RNN cell\n",
    "    :param rnn_size: Size of rnns\n",
    "    :param input_data: Input data\n",
    "    :param vocab_size: Vocabulary size\n",
    "    :param embed_dim: Number of embedding dimensions\n",
    "    :return: Tuple (Logits, FinalState)\n",
    "    \"\"\"\n",
    "    # TODO: Implement Function\n",
    "        \n",
    "    embed = get_embed(input_data, vocab_size, embed_dim)\n",
    "    \n",
    "    outputs, final_state = build_rnn(cell, embed) \n",
    "    \n",
    "    logits = tf.contrib.layers.fully_connected(outputs, vocab_size, activation_fn=None)\n",
    "    \n",
    "    return logits, final_state\n",
    "\n",
    "\n",
    "\"\"\"\n",
    "DON'T MODIFY ANYTHING IN THIS CELL THAT IS BELOW THIS LINE\n",
    "\"\"\"\n",
    "tests.test_build_nn(build_nn)"
   ]
  },
  {
   "cell_type": "markdown",
   "metadata": {
    "deletable": true,
    "editable": true
   },
   "source": [
    "### Batches\n",
    "Implement `get_batches` to create batches of input and targets using `int_text`.  The batches should be a Numpy array with the shape `(number of batches, 2, batch size, sequence length)`. Each batch contains two elements:\n",
    "- The first element is a single batch of **input** with the shape `[batch size, sequence length]`\n",
    "- The second element is a single batch of **targets** with the shape `[batch size, sequence length]`\n",
    "\n",
    "If you can't fill the last batch with enough data, drop the last batch.\n",
    "\n",
    "For exmple, `get_batches([1, 2, 3, 4, 5, 6, 7, 8, 9, 10, 11, 12, 13, 14, 15, 16, 17, 18, 19, 20], 3, 2)` would return a Numpy array of the following:\n",
    "```\n",
    "[\n",
    "  # First Batch\n",
    "  [\n",
    "    # Batch of Input\n",
    "    [[ 1  2], [ 7  8], [13 14]]\n",
    "    # Batch of targets\n",
    "    [[ 2  3], [ 8  9], [14 15]]\n",
    "  ]\n",
    "\n",
    "  # Second Batch\n",
    "  [\n",
    "    # Batch of Input\n",
    "    [[ 3  4], [ 9 10], [15 16]]\n",
    "    # Batch of targets\n",
    "    [[ 4  5], [10 11], [16 17]]\n",
    "  ]\n",
    "\n",
    "  # Third Batch\n",
    "  [\n",
    "    # Batch of Input\n",
    "    [[ 5  6], [11 12], [17 18]]\n",
    "    # Batch of targets\n",
    "    [[ 6  7], [12 13], [18  1]]\n",
    "  ]\n",
    "]\n",
    "```\n",
    "\n",
    "Notice that the last target value in the last batch is the first input value of the first batch. In this case, `1`. This is a common technique used when creating sequence batches, although it is rather unintuitive."
   ]
  },
  {
   "cell_type": "code",
   "execution_count": 41,
   "metadata": {
    "collapsed": false,
    "deletable": true,
    "editable": true
   },
   "outputs": [
    {
     "name": "stdout",
     "output_type": "stream",
     "text": [
      "Tests Passed\n"
     ]
    }
   ],
   "source": [
    "def get_batches(int_text, batch_size, seq_length):\n",
    "    \"\"\"\n",
    "    Return batches of input and target\n",
    "    :param int_text: Text with the words replaced by their ids\n",
    "    :param batch_size: The size of batch\n",
    "    :param seq_length: The length of sequence\n",
    "    :return: Batches as a Numpy array\n",
    "    \"\"\"\n",
    "    # TODO: Implement Function\n",
    "    \n",
    "    n = batch_size * seq_length\n",
    "    n_batches = len(int_text)//n\n",
    "    \n",
    "    # It suffices to solve the problem for inputs\n",
    "    txt_inputs = int_text[ : n * n_batches ]\n",
    "    txt_targets = txt_inputs[1:] + [txt_inputs[0]]\n",
    "    \n",
    "    out = []\n",
    "        \n",
    "    # List comprehensions would make the code more compact at the expense of readability\n",
    "    for b in range(n_batches):\n",
    "        inputs = []\n",
    "        targets = []\n",
    "        \n",
    "        for k in range(batch_size):\n",
    "            l_inputs = []\n",
    "            l_targets = []\n",
    "            \n",
    "            for s in range(seq_length):\n",
    "                \n",
    "                # All the magic happens in the line below\n",
    "                idx = b*seq_length + k*seq_length*n_batches + s\n",
    "                \n",
    "                # Activate to inspect\n",
    "                # print(idx, '\\t-->\\t', txt_inputs[idx])\n",
    "                \n",
    "                l_inputs.append(txt_inputs[idx])\n",
    "                l_targets.append(txt_targets[idx])\n",
    "                \n",
    "            inputs.append(l_inputs)\n",
    "            targets.append(l_targets)\n",
    "        \n",
    "        out.append([inputs, targets])\n",
    "            \n",
    "    return np.array(out)\n",
    "\n",
    "\n",
    "\"\"\"\n",
    "DON'T MODIFY ANYTHING IN THIS CELL THAT IS BELOW THIS LINE\n",
    "\"\"\"\n",
    "tests.test_get_batches(get_batches)"
   ]
  },
  {
   "cell_type": "markdown",
   "metadata": {
    "deletable": true,
    "editable": true
   },
   "source": [
    "## Neural Network Training\n",
    "### Hyperparameters\n",
    "Tune the following parameters:\n",
    "\n",
    "- Set `num_epochs` to the number of epochs.\n",
    "- Set `batch_size` to the batch size.\n",
    "- Set `rnn_size` to the size of the RNNs.\n",
    "- Set `embed_dim` to the size of the embedding.\n",
    "- Set `seq_length` to the length of sequence.\n",
    "- Set `learning_rate` to the learning rate.\n",
    "- Set `show_every_n_batches` to the number of batches the neural network should print progress."
   ]
  },
  {
   "cell_type": "code",
   "execution_count": 52,
   "metadata": {
    "collapsed": true,
    "deletable": true,
    "editable": true
   },
   "outputs": [],
   "source": [
    "# Number of Epochs\n",
    "num_epochs = 1000\n",
    "# Batch Size\n",
    "batch_size = 512\n",
    "# RNN Size\n",
    "rnn_size = 4\n",
    "# Embedding Dimension Size\n",
    "embed_dim = 200\n",
    "# Sequence Length\n",
    "seq_length = 20\n",
    "# Learning Rate\n",
    "learning_rate = 0.01\n",
    "# Show stats for every n number of batches\n",
    "show_every_n_batches = 10\n",
    "\n",
    "\"\"\"\n",
    "DON'T MODIFY ANYTHING IN THIS CELL THAT IS BELOW THIS LINE\n",
    "\"\"\"\n",
    "save_dir = './save'"
   ]
  },
  {
   "cell_type": "markdown",
   "metadata": {
    "deletable": true,
    "editable": true
   },
   "source": [
    "### Build the Graph\n",
    "Build the graph using the neural network you implemented."
   ]
  },
  {
   "cell_type": "code",
   "execution_count": 53,
   "metadata": {
    "collapsed": true,
    "deletable": true,
    "editable": true
   },
   "outputs": [],
   "source": [
    "\"\"\"\n",
    "DON'T MODIFY ANYTHING IN THIS CELL\n",
    "\"\"\"\n",
    "from tensorflow.contrib import seq2seq\n",
    "\n",
    "train_graph = tf.Graph()\n",
    "with train_graph.as_default():\n",
    "    vocab_size = len(int_to_vocab)\n",
    "    input_text, targets, lr = get_inputs()\n",
    "    input_data_shape = tf.shape(input_text)\n",
    "    cell, initial_state = get_init_cell(input_data_shape[0], rnn_size)\n",
    "    logits, final_state = build_nn(cell, rnn_size, input_text, vocab_size, embed_dim)\n",
    "\n",
    "    # Probabilities for generating words\n",
    "    probs = tf.nn.softmax(logits, name='probs')\n",
    "\n",
    "    # Loss function\n",
    "    cost = seq2seq.sequence_loss(\n",
    "        logits,\n",
    "        targets,\n",
    "        tf.ones([input_data_shape[0], input_data_shape[1]]))\n",
    "\n",
    "    # Optimizer\n",
    "    optimizer = tf.train.AdamOptimizer(lr)\n",
    "\n",
    "    # Gradient Clipping\n",
    "    gradients = optimizer.compute_gradients(cost)\n",
    "    capped_gradients = [(tf.clip_by_value(grad, -1., 1.), var) for grad, var in gradients if grad is not None]\n",
    "    train_op = optimizer.apply_gradients(capped_gradients)"
   ]
  },
  {
   "cell_type": "markdown",
   "metadata": {
    "deletable": true,
    "editable": true
   },
   "source": [
    "## Train\n",
    "Train the neural network on the preprocessed data.  If you have a hard time getting a good loss, check the [forms](https://discussions.udacity.com/) to see if anyone is having the same problem."
   ]
  },
  {
   "cell_type": "code",
   "execution_count": null,
   "metadata": {
    "collapsed": false,
    "deletable": true,
    "editable": true,
    "scrolled": true
   },
   "outputs": [
    {
     "name": "stdout",
     "output_type": "stream",
     "text": [
      "Epoch   0 Batch    0/6   train_loss = 8.821\n",
      "Epoch   1 Batch    4/6   train_loss = 8.729\n",
      "Epoch   3 Batch    2/6   train_loss = 8.699\n",
      "Epoch   5 Batch    0/6   train_loss = 8.677\n",
      "Epoch   6 Batch    4/6   train_loss = 8.672\n",
      "Epoch   8 Batch    2/6   train_loss = 8.647\n",
      "Epoch  10 Batch    0/6   train_loss = 8.619\n",
      "Epoch  11 Batch    4/6   train_loss = 8.613\n",
      "Epoch  13 Batch    2/6   train_loss = 8.593\n",
      "Epoch  15 Batch    0/6   train_loss = 8.567\n",
      "Epoch  16 Batch    4/6   train_loss = 8.563\n",
      "Epoch  18 Batch    2/6   train_loss = 8.543\n",
      "Epoch  20 Batch    0/6   train_loss = 8.517\n",
      "Epoch  21 Batch    4/6   train_loss = 8.516\n",
      "Epoch  23 Batch    2/6   train_loss = 8.495\n",
      "Epoch  25 Batch    0/6   train_loss = 8.471\n",
      "Epoch  26 Batch    4/6   train_loss = 8.472\n",
      "Epoch  28 Batch    2/6   train_loss = 8.452\n",
      "Epoch  30 Batch    0/6   train_loss = 8.428\n",
      "Epoch  31 Batch    4/6   train_loss = 8.432\n",
      "Epoch  33 Batch    2/6   train_loss = 8.408\n",
      "Epoch  35 Batch    0/6   train_loss = 8.386\n",
      "Epoch  36 Batch    4/6   train_loss = 8.390\n",
      "Epoch  38 Batch    2/6   train_loss = 8.370\n",
      "Epoch  40 Batch    0/6   train_loss = 8.347\n",
      "Epoch  41 Batch    4/6   train_loss = 8.357\n",
      "Epoch  43 Batch    2/6   train_loss = 8.335\n",
      "Epoch  45 Batch    0/6   train_loss = 8.312\n",
      "Epoch  46 Batch    4/6   train_loss = 8.328\n",
      "Epoch  48 Batch    2/6   train_loss = 8.304\n",
      "Epoch  50 Batch    0/6   train_loss = 8.284\n",
      "Epoch  51 Batch    4/6   train_loss = 8.301\n",
      "Epoch  53 Batch    2/6   train_loss = 8.278\n",
      "Epoch  55 Batch    0/6   train_loss = 8.260\n",
      "Epoch  56 Batch    4/6   train_loss = 8.273\n",
      "Epoch  58 Batch    2/6   train_loss = 8.254\n",
      "Epoch  60 Batch    0/6   train_loss = 8.233\n",
      "Epoch  61 Batch    4/6   train_loss = 8.245\n",
      "Epoch  63 Batch    2/6   train_loss = 8.228\n",
      "Epoch  65 Batch    0/6   train_loss = 8.213\n",
      "Epoch  66 Batch    4/6   train_loss = 8.227\n",
      "Epoch  68 Batch    2/6   train_loss = 8.205\n",
      "Epoch  70 Batch    0/6   train_loss = 8.189\n",
      "Epoch  71 Batch    4/6   train_loss = 8.212\n",
      "Epoch  73 Batch    2/6   train_loss = 8.185\n",
      "Epoch  75 Batch    0/6   train_loss = 8.166\n",
      "Epoch  76 Batch    4/6   train_loss = 8.186\n",
      "Epoch  78 Batch    2/6   train_loss = 8.156\n",
      "Epoch  80 Batch    0/6   train_loss = 8.138\n",
      "Epoch  81 Batch    4/6   train_loss = 8.163\n",
      "Epoch  83 Batch    2/6   train_loss = 8.139\n",
      "Epoch  85 Batch    0/6   train_loss = 8.121\n",
      "Epoch  86 Batch    4/6   train_loss = 8.147\n",
      "Epoch  88 Batch    2/6   train_loss = 8.120\n",
      "Epoch  90 Batch    0/6   train_loss = 8.103\n",
      "Epoch  91 Batch    4/6   train_loss = 8.136\n",
      "Epoch  93 Batch    2/6   train_loss = 8.104\n",
      "Epoch  95 Batch    0/6   train_loss = 8.086\n",
      "Epoch  96 Batch    4/6   train_loss = 8.115\n",
      "Epoch  98 Batch    2/6   train_loss = 8.086\n",
      "Epoch 100 Batch    0/6   train_loss = 8.082\n",
      "Epoch 101 Batch    4/6   train_loss = 8.093\n",
      "Epoch 103 Batch    2/6   train_loss = 8.059\n",
      "Epoch 105 Batch    0/6   train_loss = 8.043\n",
      "Epoch 106 Batch    4/6   train_loss = 8.073\n",
      "Epoch 108 Batch    2/6   train_loss = 8.042\n",
      "Epoch 110 Batch    0/6   train_loss = 8.028\n",
      "Epoch 111 Batch    4/6   train_loss = 8.053\n",
      "Epoch 113 Batch    2/6   train_loss = 8.023\n",
      "Epoch 115 Batch    0/6   train_loss = 8.022\n",
      "Epoch 116 Batch    4/6   train_loss = 8.042\n",
      "Epoch 118 Batch    2/6   train_loss = 8.000\n",
      "Epoch 120 Batch    0/6   train_loss = 7.982\n",
      "Epoch 121 Batch    4/6   train_loss = 8.010\n",
      "Epoch 123 Batch    2/6   train_loss = 7.979\n",
      "Epoch 125 Batch    0/6   train_loss = 7.962\n",
      "Epoch 126 Batch    4/6   train_loss = 7.989\n",
      "Epoch 128 Batch    2/6   train_loss = 7.957\n",
      "Epoch 130 Batch    0/6   train_loss = 7.940\n",
      "Epoch 131 Batch    4/6   train_loss = 7.964\n",
      "Epoch 133 Batch    2/6   train_loss = 7.926\n",
      "Epoch 135 Batch    0/6   train_loss = 7.915\n",
      "Epoch 136 Batch    4/6   train_loss = 7.939\n",
      "Epoch 138 Batch    2/6   train_loss = 7.901\n",
      "Epoch 140 Batch    0/6   train_loss = 7.889\n",
      "Epoch 141 Batch    4/6   train_loss = 7.918\n",
      "Epoch 143 Batch    2/6   train_loss = 7.878\n",
      "Epoch 145 Batch    0/6   train_loss = 7.864\n",
      "Epoch 146 Batch    4/6   train_loss = 7.892\n",
      "Epoch 148 Batch    2/6   train_loss = 7.858\n",
      "Epoch 150 Batch    0/6   train_loss = 7.842\n",
      "Epoch 151 Batch    4/6   train_loss = 7.882\n",
      "Epoch 153 Batch    2/6   train_loss = 7.838\n",
      "Epoch 155 Batch    0/6   train_loss = 7.825\n",
      "Epoch 156 Batch    4/6   train_loss = 7.868\n",
      "Epoch 158 Batch    2/6   train_loss = 7.828\n",
      "Epoch 160 Batch    0/6   train_loss = 7.818\n",
      "Epoch 161 Batch    4/6   train_loss = 7.841\n",
      "Epoch 163 Batch    2/6   train_loss = 7.798\n",
      "Epoch 165 Batch    0/6   train_loss = 7.783\n",
      "Epoch 166 Batch    4/6   train_loss = 7.825\n",
      "Epoch 168 Batch    2/6   train_loss = 7.774\n",
      "Epoch 170 Batch    0/6   train_loss = 7.762\n",
      "Epoch 171 Batch    4/6   train_loss = 7.801\n",
      "Epoch 173 Batch    2/6   train_loss = 7.759\n",
      "Epoch 175 Batch    0/6   train_loss = 7.741\n",
      "Epoch 176 Batch    4/6   train_loss = 7.776\n",
      "Epoch 178 Batch    2/6   train_loss = 7.736\n",
      "Epoch 180 Batch    0/6   train_loss = 7.729\n",
      "Epoch 181 Batch    4/6   train_loss = 7.759\n",
      "Epoch 183 Batch    2/6   train_loss = 7.733\n",
      "Epoch 185 Batch    0/6   train_loss = 7.719\n",
      "Epoch 186 Batch    4/6   train_loss = 7.742\n",
      "Epoch 188 Batch    2/6   train_loss = 7.702\n",
      "Epoch 190 Batch    0/6   train_loss = 7.694\n",
      "Epoch 191 Batch    4/6   train_loss = 7.722\n",
      "Epoch 193 Batch    2/6   train_loss = 7.684\n",
      "Epoch 195 Batch    0/6   train_loss = 7.677\n",
      "Epoch 196 Batch    4/6   train_loss = 7.714\n",
      "Epoch 198 Batch    2/6   train_loss = 7.671\n",
      "Epoch 200 Batch    0/6   train_loss = 7.666\n",
      "Epoch 201 Batch    4/6   train_loss = 7.709\n",
      "Epoch 203 Batch    2/6   train_loss = 7.665\n",
      "Epoch 205 Batch    0/6   train_loss = 7.662\n",
      "Epoch 206 Batch    4/6   train_loss = 7.679\n",
      "Epoch 208 Batch    2/6   train_loss = 7.644\n",
      "Epoch 210 Batch    0/6   train_loss = 7.629\n",
      "Epoch 211 Batch    4/6   train_loss = 7.660\n",
      "Epoch 213 Batch    2/6   train_loss = 7.647\n",
      "Epoch 215 Batch    0/6   train_loss = 7.623\n",
      "Epoch 216 Batch    4/6   train_loss = 7.651\n",
      "Epoch 218 Batch    2/6   train_loss = 7.612\n",
      "Epoch 220 Batch    0/6   train_loss = 7.586\n",
      "Epoch 221 Batch    4/6   train_loss = 7.633\n",
      "Epoch 223 Batch    2/6   train_loss = 7.601\n",
      "Epoch 225 Batch    0/6   train_loss = 7.590\n",
      "Epoch 226 Batch    4/6   train_loss = 7.632\n",
      "Epoch 228 Batch    2/6   train_loss = 7.584\n",
      "Epoch 230 Batch    0/6   train_loss = 7.558\n",
      "Epoch 231 Batch    4/6   train_loss = 7.592\n",
      "Epoch 233 Batch    2/6   train_loss = 7.561\n",
      "Epoch 235 Batch    0/6   train_loss = 7.547\n",
      "Epoch 236 Batch    4/6   train_loss = 7.583\n",
      "Epoch 238 Batch    2/6   train_loss = 7.554\n",
      "Epoch 240 Batch    0/6   train_loss = 7.544\n",
      "Epoch 241 Batch    4/6   train_loss = 7.577\n",
      "Epoch 243 Batch    2/6   train_loss = 7.542\n",
      "Epoch 245 Batch    0/6   train_loss = 7.535\n",
      "Epoch 246 Batch    4/6   train_loss = 7.559\n",
      "Epoch 248 Batch    2/6   train_loss = 7.538\n",
      "Epoch 250 Batch    0/6   train_loss = 7.524\n",
      "Epoch 251 Batch    4/6   train_loss = 7.543\n",
      "Epoch 253 Batch    2/6   train_loss = 7.520\n",
      "Epoch 255 Batch    0/6   train_loss = 7.507\n",
      "Epoch 256 Batch    4/6   train_loss = 7.536\n",
      "Epoch 258 Batch    2/6   train_loss = 7.524\n",
      "Epoch 260 Batch    0/6   train_loss = 7.505\n",
      "Epoch 261 Batch    4/6   train_loss = 7.518\n",
      "Epoch 263 Batch    2/6   train_loss = 7.495\n",
      "Epoch 265 Batch    0/6   train_loss = 7.497\n",
      "Epoch 266 Batch    4/6   train_loss = 7.525\n",
      "Epoch 268 Batch    2/6   train_loss = 7.495\n",
      "Epoch 270 Batch    0/6   train_loss = 7.483\n",
      "Epoch 271 Batch    4/6   train_loss = 7.522\n",
      "Epoch 273 Batch    2/6   train_loss = 7.509\n",
      "Epoch 275 Batch    0/6   train_loss = 7.512\n",
      "Epoch 276 Batch    4/6   train_loss = 7.531\n",
      "Epoch 278 Batch    2/6   train_loss = 7.495\n",
      "Epoch 280 Batch    0/6   train_loss = 7.499\n",
      "Epoch 281 Batch    4/6   train_loss = 7.521\n",
      "Epoch 283 Batch    2/6   train_loss = 7.492\n",
      "Epoch 285 Batch    0/6   train_loss = 7.475\n",
      "Epoch 286 Batch    4/6   train_loss = 7.507\n",
      "Epoch 288 Batch    2/6   train_loss = 7.472\n",
      "Epoch 290 Batch    0/6   train_loss = 7.461\n",
      "Epoch 291 Batch    4/6   train_loss = 7.491\n",
      "Epoch 293 Batch    2/6   train_loss = 7.461\n",
      "Epoch 295 Batch    0/6   train_loss = 7.445\n",
      "Epoch 296 Batch    4/6   train_loss = 7.476\n",
      "Epoch 298 Batch    2/6   train_loss = 7.446\n",
      "Epoch 300 Batch    0/6   train_loss = 7.430\n",
      "Epoch 301 Batch    4/6   train_loss = 7.464\n",
      "Epoch 303 Batch    2/6   train_loss = 7.433\n",
      "Epoch 305 Batch    0/6   train_loss = 7.419\n",
      "Epoch 306 Batch    4/6   train_loss = 7.451\n",
      "Epoch 308 Batch    2/6   train_loss = 7.417\n",
      "Epoch 310 Batch    0/6   train_loss = 7.409\n",
      "Epoch 311 Batch    4/6   train_loss = 7.444\n",
      "Epoch 313 Batch    2/6   train_loss = 7.410\n",
      "Epoch 315 Batch    0/6   train_loss = 7.398\n",
      "Epoch 316 Batch    4/6   train_loss = 7.430\n",
      "Epoch 318 Batch    2/6   train_loss = 7.396\n",
      "Epoch 320 Batch    0/6   train_loss = 7.384\n",
      "Epoch 321 Batch    4/6   train_loss = 7.418\n",
      "Epoch 323 Batch    2/6   train_loss = 7.385\n",
      "Epoch 325 Batch    0/6   train_loss = 7.371\n",
      "Epoch 326 Batch    4/6   train_loss = 7.403\n",
      "Epoch 328 Batch    2/6   train_loss = 7.371\n",
      "Epoch 330 Batch    0/6   train_loss = 7.358\n",
      "Epoch 331 Batch    4/6   train_loss = 7.391\n",
      "Epoch 333 Batch    2/6   train_loss = 7.356\n",
      "Epoch 335 Batch    0/6   train_loss = 7.345\n",
      "Epoch 336 Batch    4/6   train_loss = 7.379\n",
      "Epoch 338 Batch    2/6   train_loss = 7.346\n",
      "Epoch 340 Batch    0/6   train_loss = 7.333\n",
      "Epoch 341 Batch    4/6   train_loss = 7.367\n",
      "Epoch 343 Batch    2/6   train_loss = 7.333\n",
      "Epoch 345 Batch    0/6   train_loss = 7.320\n",
      "Epoch 346 Batch    4/6   train_loss = 7.355\n",
      "Epoch 348 Batch    2/6   train_loss = 7.321\n",
      "Epoch 350 Batch    0/6   train_loss = 7.308\n",
      "Epoch 351 Batch    4/6   train_loss = 7.345\n",
      "Epoch 353 Batch    2/6   train_loss = 7.310\n",
      "Epoch 355 Batch    0/6   train_loss = 7.296\n",
      "Epoch 356 Batch    4/6   train_loss = 7.332\n",
      "Epoch 358 Batch    2/6   train_loss = 7.298\n",
      "Epoch 360 Batch    0/6   train_loss = 7.285\n",
      "Epoch 361 Batch    4/6   train_loss = 7.321\n",
      "Epoch 363 Batch    2/6   train_loss = 7.287\n",
      "Epoch 365 Batch    0/6   train_loss = 7.274\n",
      "Epoch 366 Batch    4/6   train_loss = 7.309\n",
      "Epoch 368 Batch    2/6   train_loss = 7.276\n",
      "Epoch 370 Batch    0/6   train_loss = 7.262\n",
      "Epoch 371 Batch    4/6   train_loss = 7.299\n",
      "Epoch 373 Batch    2/6   train_loss = 7.267\n",
      "Epoch 375 Batch    0/6   train_loss = 7.255\n",
      "Epoch 376 Batch    4/6   train_loss = 7.292\n",
      "Epoch 378 Batch    2/6   train_loss = 7.259\n",
      "Epoch 380 Batch    0/6   train_loss = 7.246\n",
      "Epoch 381 Batch    4/6   train_loss = 7.282\n",
      "Epoch 383 Batch    2/6   train_loss = 7.248\n",
      "Epoch 385 Batch    0/6   train_loss = 7.236\n",
      "Epoch 386 Batch    4/6   train_loss = 7.272\n",
      "Epoch 388 Batch    2/6   train_loss = 7.238\n",
      "Epoch 390 Batch    0/6   train_loss = 7.226\n",
      "Epoch 391 Batch    4/6   train_loss = 7.261\n",
      "Epoch 393 Batch    2/6   train_loss = 7.228\n",
      "Epoch 395 Batch    0/6   train_loss = 7.216\n",
      "Epoch 396 Batch    4/6   train_loss = 7.251\n",
      "Epoch 398 Batch    2/6   train_loss = 7.218\n",
      "Epoch 400 Batch    0/6   train_loss = 7.206\n",
      "Epoch 401 Batch    4/6   train_loss = 7.242\n",
      "Epoch 403 Batch    2/6   train_loss = 7.208\n",
      "Epoch 405 Batch    0/6   train_loss = 7.196\n",
      "Epoch 406 Batch    4/6   train_loss = 7.232\n",
      "Epoch 408 Batch    2/6   train_loss = 7.199\n",
      "Epoch 410 Batch    0/6   train_loss = 7.186\n",
      "Epoch 411 Batch    4/6   train_loss = 7.223\n",
      "Epoch 413 Batch    2/6   train_loss = 7.189\n",
      "Epoch 415 Batch    0/6   train_loss = 7.177\n",
      "Epoch 416 Batch    4/6   train_loss = 7.213\n",
      "Epoch 418 Batch    2/6   train_loss = 7.180\n",
      "Epoch 420 Batch    0/6   train_loss = 7.167\n",
      "Epoch 421 Batch    4/6   train_loss = 7.204\n",
      "Epoch 423 Batch    2/6   train_loss = 7.170\n",
      "Epoch 425 Batch    0/6   train_loss = 7.158\n",
      "Epoch 426 Batch    4/6   train_loss = 7.195\n",
      "Epoch 428 Batch    2/6   train_loss = 7.161\n",
      "Epoch 430 Batch    0/6   train_loss = 7.150\n",
      "Epoch 431 Batch    4/6   train_loss = 7.186\n",
      "Epoch 433 Batch    2/6   train_loss = 7.153\n",
      "Epoch 435 Batch    0/6   train_loss = 7.141\n",
      "Epoch 436 Batch    4/6   train_loss = 7.177\n",
      "Epoch 438 Batch    2/6   train_loss = 7.144\n",
      "Epoch 440 Batch    0/6   train_loss = 7.132\n",
      "Epoch 441 Batch    4/6   train_loss = 7.169\n",
      "Epoch 443 Batch    2/6   train_loss = 7.135\n",
      "Epoch 445 Batch    0/6   train_loss = 7.123\n",
      "Epoch 446 Batch    4/6   train_loss = 7.160\n",
      "Epoch 448 Batch    2/6   train_loss = 7.127\n",
      "Epoch 450 Batch    0/6   train_loss = 7.114\n",
      "Epoch 451 Batch    4/6   train_loss = 7.151\n",
      "Epoch 453 Batch    2/6   train_loss = 7.118\n",
      "Epoch 455 Batch    0/6   train_loss = 7.106\n",
      "Epoch 456 Batch    4/6   train_loss = 7.143\n",
      "Epoch 458 Batch    2/6   train_loss = 7.110\n",
      "Epoch 460 Batch    0/6   train_loss = 7.097\n",
      "Epoch 461 Batch    4/6   train_loss = 7.135\n",
      "Epoch 463 Batch    2/6   train_loss = 7.101\n",
      "Epoch 465 Batch    0/6   train_loss = 7.089\n",
      "Epoch 466 Batch    4/6   train_loss = 7.126\n",
      "Epoch 468 Batch    2/6   train_loss = 7.093\n",
      "Epoch 470 Batch    0/6   train_loss = 7.080\n",
      "Epoch 471 Batch    4/6   train_loss = 7.118\n",
      "Epoch 473 Batch    2/6   train_loss = 7.085\n",
      "Epoch 475 Batch    0/6   train_loss = 7.072\n",
      "Epoch 476 Batch    4/6   train_loss = 7.110\n",
      "Epoch 478 Batch    2/6   train_loss = 7.076\n",
      "Epoch 480 Batch    0/6   train_loss = 7.064\n",
      "Epoch 481 Batch    4/6   train_loss = 7.102\n",
      "Epoch 483 Batch    2/6   train_loss = 7.068\n",
      "Epoch 485 Batch    0/6   train_loss = 7.056\n",
      "Epoch 486 Batch    4/6   train_loss = 7.094\n",
      "Epoch 488 Batch    2/6   train_loss = 7.060\n",
      "Epoch 490 Batch    0/6   train_loss = 7.048\n",
      "Epoch 491 Batch    4/6   train_loss = 7.086\n",
      "Epoch 493 Batch    2/6   train_loss = 7.052\n",
      "Epoch 495 Batch    0/6   train_loss = 7.040\n",
      "Epoch 496 Batch    4/6   train_loss = 7.078\n",
      "Epoch 498 Batch    2/6   train_loss = 7.045\n",
      "Epoch 500 Batch    0/6   train_loss = 7.032\n",
      "Epoch 501 Batch    4/6   train_loss = 7.071\n",
      "Epoch 503 Batch    2/6   train_loss = 7.037\n",
      "Epoch 505 Batch    0/6   train_loss = 7.025\n",
      "Epoch 506 Batch    4/6   train_loss = 7.063\n",
      "Epoch 508 Batch    2/6   train_loss = 7.029\n",
      "Epoch 510 Batch    0/6   train_loss = 7.017\n",
      "Epoch 511 Batch    4/6   train_loss = 7.055\n",
      "Epoch 513 Batch    2/6   train_loss = 7.022\n",
      "Epoch 515 Batch    0/6   train_loss = 7.009\n",
      "Epoch 516 Batch    4/6   train_loss = 7.048\n",
      "Epoch 518 Batch    2/6   train_loss = 7.014\n",
      "Epoch 520 Batch    0/6   train_loss = 7.002\n",
      "Epoch 521 Batch    4/6   train_loss = 7.040\n",
      "Epoch 523 Batch    2/6   train_loss = 7.007\n",
      "Epoch 525 Batch    0/6   train_loss = 6.995\n",
      "Epoch 526 Batch    4/6   train_loss = 7.033\n",
      "Epoch 528 Batch    2/6   train_loss = 7.000\n",
      "Epoch 530 Batch    0/6   train_loss = 6.987\n",
      "Epoch 531 Batch    4/6   train_loss = 7.026\n",
      "Epoch 533 Batch    2/6   train_loss = 6.993\n",
      "Epoch 535 Batch    0/6   train_loss = 6.980\n",
      "Epoch 536 Batch    4/6   train_loss = 7.019\n",
      "Epoch 538 Batch    2/6   train_loss = 6.986\n",
      "Epoch 540 Batch    0/6   train_loss = 6.973\n",
      "Epoch 541 Batch    4/6   train_loss = 7.012\n",
      "Epoch 543 Batch    2/6   train_loss = 6.979\n",
      "Epoch 545 Batch    0/6   train_loss = 6.966\n",
      "Epoch 546 Batch    4/6   train_loss = 7.005\n",
      "Epoch 548 Batch    2/6   train_loss = 6.972\n",
      "Epoch 550 Batch    0/6   train_loss = 6.960\n",
      "Epoch 551 Batch    4/6   train_loss = 6.999\n",
      "Epoch 553 Batch    2/6   train_loss = 6.965\n",
      "Epoch 555 Batch    0/6   train_loss = 6.953\n",
      "Epoch 556 Batch    4/6   train_loss = 6.992\n"
     ]
    }
   ],
   "source": [
    "\"\"\"\n",
    "DON'T MODIFY ANYTHING IN THIS CELL\n",
    "\"\"\"\n",
    "batches = get_batches(int_text, batch_size, seq_length)\n",
    "\n",
    "with tf.Session(graph=train_graph) as sess:\n",
    "    sess.run(tf.global_variables_initializer())\n",
    "\n",
    "    for epoch_i in range(num_epochs):\n",
    "        state = sess.run(initial_state, {input_text: batches[0][0]})\n",
    "\n",
    "        for batch_i, (x, y) in enumerate(batches):\n",
    "            feed = {\n",
    "                input_text: x,\n",
    "                targets: y,\n",
    "                initial_state: state,\n",
    "                lr: learning_rate}\n",
    "            train_loss, state, _ = sess.run([cost, final_state, train_op], feed)\n",
    "\n",
    "            # Show every <show_every_n_batches> batches\n",
    "            if (epoch_i * len(batches) + batch_i) % show_every_n_batches == 0:\n",
    "                print('Epoch {:>3} Batch {:>4}/{}   train_loss = {:.3f}'.format(\n",
    "                    epoch_i,\n",
    "                    batch_i,\n",
    "                    len(batches),\n",
    "                    train_loss))\n",
    "\n",
    "    # Save Model\n",
    "    saver = tf.train.Saver()\n",
    "    saver.save(sess, save_dir)\n",
    "    print('Model Trained and Saved')"
   ]
  },
  {
   "cell_type": "markdown",
   "metadata": {
    "deletable": true,
    "editable": true
   },
   "source": [
    "## Save Parameters\n",
    "Save `seq_length` and `save_dir` for generating a new TV script."
   ]
  },
  {
   "cell_type": "code",
   "execution_count": 49,
   "metadata": {
    "collapsed": true,
    "deletable": true,
    "editable": true
   },
   "outputs": [],
   "source": [
    "\"\"\"\n",
    "DON'T MODIFY ANYTHING IN THIS CELL\n",
    "\"\"\"\n",
    "# Save parameters for checkpoint\n",
    "helper.save_params((seq_length, save_dir))"
   ]
  },
  {
   "cell_type": "markdown",
   "metadata": {
    "deletable": true,
    "editable": true
   },
   "source": [
    "# Checkpoint"
   ]
  },
  {
   "cell_type": "code",
   "execution_count": 50,
   "metadata": {
    "collapsed": true,
    "deletable": true,
    "editable": true
   },
   "outputs": [],
   "source": [
    "\"\"\"\n",
    "DON'T MODIFY ANYTHING IN THIS CELL\n",
    "\"\"\"\n",
    "import tensorflow as tf\n",
    "import numpy as np\n",
    "import helper\n",
    "import problem_unittests as tests\n",
    "\n",
    "_, vocab_to_int, int_to_vocab, token_dict = helper.load_preprocess()\n",
    "seq_length, load_dir = helper.load_params()"
   ]
  },
  {
   "cell_type": "markdown",
   "metadata": {
    "deletable": true,
    "editable": true
   },
   "source": [
    "## Implement Generate Functions\n",
    "### Get Tensors\n",
    "Get tensors from `loaded_graph` using the function [`get_tensor_by_name()`](https://www.tensorflow.org/api_docs/python/tf/Graph#get_tensor_by_name).  Get the tensors using the following names:\n",
    "- \"input:0\"\n",
    "- \"initial_state:0\"\n",
    "- \"final_state:0\"\n",
    "- \"probs:0\"\n",
    "\n",
    "Return the tensors in the following tuple `(InputTensor, InitialStateTensor, FinalStateTensor, ProbsTensor)` "
   ]
  },
  {
   "cell_type": "code",
   "execution_count": 48,
   "metadata": {
    "collapsed": false,
    "deletable": true,
    "editable": true
   },
   "outputs": [
    {
     "name": "stdout",
     "output_type": "stream",
     "text": [
      "Tests Passed\n"
     ]
    }
   ],
   "source": [
    "def get_tensors(loaded_graph):\n",
    "    \"\"\"\n",
    "    Get input, initial state, final state, and probabilities tensor from <loaded_graph>\n",
    "    :param loaded_graph: TensorFlow graph loaded from file\n",
    "    :return: Tuple (InputTensor, InitialStateTensor, FinalStateTensor, ProbsTensor)\n",
    "    \"\"\"\n",
    "    # TODO: Implement Function\n",
    "    input_tensor = loaded_graph.get_tensor_by_name('input:0')\n",
    "    initial_state_tensor = loaded_graph.get_tensor_by_name('initial_state:0')\n",
    "    final_state_tensor = loaded_graph.get_tensor_by_name('final_state:0')\n",
    "    probs_tensor = loaded_graph.get_tensor_by_name('probs:0')\n",
    "    return input_tensor, initial_state_tensor, final_state_tensor, probs_tensor\n",
    "\n",
    "\n",
    "\"\"\"\n",
    "DON'T MODIFY ANYTHING IN THIS CELL THAT IS BELOW THIS LINE\n",
    "\"\"\"\n",
    "tests.test_get_tensors(get_tensors)"
   ]
  },
  {
   "cell_type": "markdown",
   "metadata": {
    "deletable": true,
    "editable": true
   },
   "source": [
    "### Choose Word\n",
    "Implement the `pick_word()` function to select the next word using `probabilities`."
   ]
  },
  {
   "cell_type": "code",
   "execution_count": null,
   "metadata": {
    "collapsed": true,
    "deletable": true,
    "editable": true
   },
   "outputs": [],
   "source": [
    "def pick_word(probabilities, int_to_vocab):\n",
    "    \"\"\"\n",
    "    Pick the next word in the generated text\n",
    "    :param probabilities: Probabilites of the next word\n",
    "    :param int_to_vocab: Dictionary of word ids as the keys and words as the values\n",
    "    :return: String of the predicted word\n",
    "    \"\"\"\n",
    "    # TODO: Implement Function\n",
    "    \n",
    "    return int_to_vocab[tf.argmax(probabilities)]\n",
    "\n",
    "\n",
    "\"\"\"\n",
    "DON'T MODIFY ANYTHING IN THIS CELL THAT IS BELOW THIS LINE\n",
    "\"\"\"\n",
    "tests.test_pick_word(pick_word)"
   ]
  },
  {
   "cell_type": "markdown",
   "metadata": {
    "deletable": true,
    "editable": true
   },
   "source": [
    "## Generate TV Script\n",
    "This will generate the TV script for you.  Set `gen_length` to the length of TV script you want to generate."
   ]
  },
  {
   "cell_type": "code",
   "execution_count": null,
   "metadata": {
    "collapsed": true,
    "deletable": true,
    "editable": true
   },
   "outputs": [],
   "source": [
    "gen_length = 200\n",
    "# homer_simpson, moe_szyslak, or Barney_Gumble\n",
    "prime_word = 'moe_szyslak'\n",
    "\n",
    "\"\"\"\n",
    "DON'T MODIFY ANYTHING IN THIS CELL THAT IS BELOW THIS LINE\n",
    "\"\"\"\n",
    "loaded_graph = tf.Graph()\n",
    "with tf.Session(graph=loaded_graph) as sess:\n",
    "    # Load saved model\n",
    "    loader = tf.train.import_meta_graph(load_dir + '.meta')\n",
    "    loader.restore(sess, load_dir)\n",
    "\n",
    "    # Get Tensors from loaded model\n",
    "    input_text, initial_state, final_state, probs = get_tensors(loaded_graph)\n",
    "\n",
    "    # Sentences generation setup\n",
    "    gen_sentences = [prime_word + ':']\n",
    "    prev_state = sess.run(initial_state, {input_text: np.array([[1]])})\n",
    "\n",
    "    # Generate sentences\n",
    "    for n in range(gen_length):\n",
    "        # Dynamic Input\n",
    "        dyn_input = [[vocab_to_int[word] for word in gen_sentences[-seq_length:]]]\n",
    "        dyn_seq_length = len(dyn_input[0])\n",
    "\n",
    "        # Get Prediction\n",
    "        probabilities, prev_state = sess.run(\n",
    "            [probs, final_state],\n",
    "            {input_text: dyn_input, initial_state: prev_state})\n",
    "        \n",
    "        pred_word = pick_word(probabilities[dyn_seq_length-1], int_to_vocab)\n",
    "\n",
    "        gen_sentences.append(pred_word)\n",
    "    \n",
    "    # Remove tokens\n",
    "    tv_script = ' '.join(gen_sentences)\n",
    "    for key, token in token_dict.items():\n",
    "        ending = ' ' if key in ['\\n', '(', '\"'] else ''\n",
    "        tv_script = tv_script.replace(' ' + token.lower(), key)\n",
    "    tv_script = tv_script.replace('\\n ', '\\n')\n",
    "    tv_script = tv_script.replace('( ', '(')\n",
    "        \n",
    "    print(tv_script)"
   ]
  },
  {
   "cell_type": "markdown",
   "metadata": {
    "deletable": true,
    "editable": true
   },
   "source": [
    "# The TV Script is Nonsensical\n",
    "It's ok if the TV script doesn't make any sense.  We trained on less than a megabyte of text.  In order to get good results, you'll have to use a smaller vocabulary or get more data.  Luckly there's more data!  As we mentioned in the begging of this project, this is a subset of [another dataset](https://www.kaggle.com/wcukierski/the-simpsons-by-the-data).  We didn't have you train on all the data, because that would take too long.  However, you are free to train your neural network on all the data.  After you complete the project, of course.\n",
    "# Submitting This Project\n",
    "When submitting this project, make sure to run all the cells before saving the notebook. Save the notebook file as \"dlnd_tv_script_generation.ipynb\" and save it as a HTML file under \"File\" -> \"Download as\". Include the \"helper.py\" and \"problem_unittests.py\" files in your submission."
   ]
  }
 ],
 "metadata": {
  "kernelspec": {
   "display_name": "Python 3",
   "language": "python",
   "name": "python3"
  },
  "language_info": {
   "codemirror_mode": {
    "name": "ipython",
    "version": 3
   },
   "file_extension": ".py",
   "mimetype": "text/x-python",
   "name": "python",
   "nbconvert_exporter": "python",
   "pygments_lexer": "ipython3",
   "version": "3.4.3"
  },
  "widgets": {
   "state": {},
   "version": "1.1.2"
  }
 },
 "nbformat": 4,
 "nbformat_minor": 1
}
