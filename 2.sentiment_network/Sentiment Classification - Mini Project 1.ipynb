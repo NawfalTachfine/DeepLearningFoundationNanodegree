{
 "cells": [
  {
   "cell_type": "markdown",
   "metadata": {},
   "source": [
    "# Sentiment Classification & How To \"Frame Problems\" for a Neural Network\n",
    "\n",
    "by Andrew Trask\n",
    "\n",
    "- **Twitter**: @iamtrask\n",
    "- **Blog**: http://iamtrask.github.io"
   ]
  },
  {
   "cell_type": "markdown",
   "metadata": {},
   "source": [
    "### What You Should Already Know\n",
    "\n",
    "- neural networks, forward and back-propagation\n",
    "- stochastic gradient descent\n",
    "- mean squared error\n",
    "- and train/test splits\n",
    "\n",
    "### Where to Get Help if You Need it\n",
    "- Re-watch previous Udacity Lectures\n",
    "- Leverage the recommended Course Reading Material - [Grokking Deep Learning](https://www.manning.com/books/grokking-deep-learning) (40% Off: **traskud17**)\n",
    "- Shoot me a tweet @iamtrask\n",
    "\n",
    "\n",
    "### Tutorial Outline:\n",
    "\n",
    "- Intro: The Importance of \"Framing a Problem\"\n",
    "\n",
    "\n",
    "- Curate a Dataset\n",
    "- Developing a \"Predictive Theory\"\n",
    "- **PROJECT 1**: Quick Theory Validation\n",
    "\n",
    "\n",
    "- Transforming Text to Numbers\n",
    "- **PROJECT 2**: Creating the Input/Output Data\n",
    "\n",
    "\n",
    "- Putting it all together in a Neural Network\n",
    "- **PROJECT 3**: Building our Neural Network\n",
    "\n",
    "\n",
    "- Understanding Neural Noise\n",
    "- **PROJECT 4**: Making Learning Faster by Reducing Noise\n",
    "\n",
    "\n",
    "- Analyzing Inefficiencies in our Network\n",
    "- **PROJECT 5**: Making our Network Train and Run Faster\n",
    "\n",
    "\n",
    "- Further Noise Reduction\n",
    "- **PROJECT 6**: Reducing Noise by Strategically Reducing the Vocabulary\n",
    "\n",
    "\n",
    "- Analysis: What's going on in the weights?"
   ]
  },
  {
   "cell_type": "markdown",
   "metadata": {
    "nbpresent": {
     "id": "56bb3cba-260c-4ebe-9ed6-b995b4c72aa3"
    }
   },
   "source": [
    "# Lesson: Curate a Dataset"
   ]
  },
  {
   "cell_type": "code",
   "execution_count": 1,
   "metadata": {
    "collapsed": false,
    "nbpresent": {
     "id": "eba2b193-0419-431e-8db9-60f34dd3fe83"
    }
   },
   "outputs": [],
   "source": [
    "def pretty_print_review_and_label(i):\n",
    "    print(labels[i] + \"\\t:\\t\" + reviews[i][:80] + \"...\")\n",
    "\n",
    "g = open('reviews.txt','r') # What we know!\n",
    "reviews = list(map(lambda x:x[:-1],g.readlines()))\n",
    "g.close()\n",
    "\n",
    "g = open('labels.txt','r') # What we WANT to know!\n",
    "labels = list(map(lambda x:x[:-1].upper(),g.readlines()))\n",
    "g.close()"
   ]
  },
  {
   "cell_type": "code",
   "execution_count": 2,
   "metadata": {
    "collapsed": false
   },
   "outputs": [
    {
     "data": {
      "text/plain": [
       "25000"
      ]
     },
     "execution_count": 2,
     "metadata": {},
     "output_type": "execute_result"
    }
   ],
   "source": [
    "len(reviews)"
   ]
  },
  {
   "cell_type": "code",
   "execution_count": 3,
   "metadata": {
    "collapsed": false,
    "nbpresent": {
     "id": "bb95574b-21a0-4213-ae50-34363cf4f87f"
    }
   },
   "outputs": [
    {
     "data": {
      "text/plain": [
       "'bromwell high is a cartoon comedy . it ran at the same time as some other programs about school life  such as  teachers  . my   years in the teaching profession lead me to believe that bromwell high  s satire is much closer to reality than is  teachers  . the scramble to survive financially  the insightful students who can see right through their pathetic teachers  pomp  the pettiness of the whole situation  all remind me of the schools i knew and their students . when i saw the episode in which a student repeatedly tried to burn down the school  i immediately recalled . . . . . . . . . at . . . . . . . . . . high . a classic line inspector i  m here to sack one of your teachers . student welcome to bromwell high . i expect that many adults of my age think that bromwell high is far fetched . what a pity that it isn  t   '"
      ]
     },
     "execution_count": 3,
     "metadata": {},
     "output_type": "execute_result"
    }
   ],
   "source": [
    "reviews[0]"
   ]
  },
  {
   "cell_type": "code",
   "execution_count": 6,
   "metadata": {
    "collapsed": false,
    "nbpresent": {
     "id": "e0408810-c424-4ed4-afb9-1735e9ddbd0a"
    }
   },
   "outputs": [
    {
     "data": {
      "text/plain": [
       "'POSITIVE'"
      ]
     },
     "execution_count": 6,
     "metadata": {},
     "output_type": "execute_result"
    }
   ],
   "source": [
    "labels[0]"
   ]
  },
  {
   "cell_type": "markdown",
   "metadata": {},
   "source": [
    "# Lesson: Develop a Predictive Theory"
   ]
  },
  {
   "cell_type": "code",
   "execution_count": 5,
   "metadata": {
    "collapsed": false,
    "nbpresent": {
     "id": "e67a709f-234f-4493-bae6-4fb192141ee0"
    }
   },
   "outputs": [
    {
     "name": "stdout",
     "output_type": "stream",
     "text": [
      "labels.txt \t : \t reviews.txt\n",
      "\n",
      "NEGATIVE\t:\tthis movie is terrible but it has some good effects .  ...\n",
      "POSITIVE\t:\tadrian pasdar is excellent is this film . he makes a fascinating woman .  ...\n",
      "NEGATIVE\t:\tcomment this movie is impossible . is terrible  very improbable  bad interpretat...\n",
      "POSITIVE\t:\texcellent episode movie ala pulp fiction .  days   suicides . it doesnt get more...\n",
      "NEGATIVE\t:\tif you haven  t seen this  it  s terrible . it is pure trash . i saw this about ...\n",
      "POSITIVE\t:\tthis schiffer guy is a real genius  the movie is of excellent quality and both e...\n"
     ]
    }
   ],
   "source": [
    "print(\"labels.txt \\t : \\t reviews.txt\\n\")\n",
    "pretty_print_review_and_label(2137)\n",
    "pretty_print_review_and_label(12816)\n",
    "pretty_print_review_and_label(6267)\n",
    "pretty_print_review_and_label(21934)\n",
    "pretty_print_review_and_label(5297)\n",
    "pretty_print_review_and_label(4998)"
   ]
  },
  {
   "cell_type": "code",
   "execution_count": 44,
   "metadata": {
    "collapsed": true
   },
   "outputs": [],
   "source": [
    "from collections import Counter\n",
    "\n",
    "neg_reviews = []\n",
    "pos_reviews = []\n",
    "for i in range(len(labels)):\n",
    "    if labels[i] == 'POSITIVE':\n",
    "        pos_reviews += reviews[i].split(' ')\n",
    "    else: \n",
    "        neg_reviews += reviews[i].split(' ')\n",
    "\n",
    "pos_count = Counter(pos_reviews)\n",
    "n = Counter(neg_reviews)\n",
    "pos_count.subtract(n)\n",
    "pos_count.subtract(n)\n",
    "\n",
    "neg_count = Counter(neg_reviews)\n",
    "p = Counter(pos_reviews)\n",
    "neg_count.subtract(p)\n",
    "neg_count.subtract(p)"
   ]
  },
  {
   "cell_type": "code",
   "execution_count": 47,
   "metadata": {
    "collapsed": false,
    "scrolled": false
   },
   "outputs": [
    {
     "name": "stdout",
     "output_type": "stream",
     "text": [
      "Positive reviews wordcounts:\n",
      "1139 \t:\t great\n",
      "907 \t:\t excellent\n",
      "800 \t:\t wonderful\n",
      "534 \t:\t amazing\n",
      "530 \t:\t perfect\n",
      "422 \t:\t favorite\n",
      "405 \t:\t loved\n",
      "388 \t:\t beautiful\n",
      "386 \t:\t brilliant\n",
      "365 \t:\t superb\n",
      "365 \t:\t fantastic\n",
      "318 \t:\t today\n",
      "317 \t:\t highly\n",
      "247 \t:\t beautifully\n",
      "237 \t:\t stewart\n",
      "225 \t:\t touching\n",
      "224 \t:\t powerful\n",
      "221 \t:\t heart\n",
      "213 \t:\t wonderfully\n",
      "199 \t:\t terrific\n",
      "196 \t:\t perfectly\n",
      "191 \t:\t noir\n",
      "191 \t:\t victoria\n",
      "190 \t:\t outstanding\n",
      "166 \t:\t kelly\n",
      "162 \t:\t oscar\n",
      "160 \t:\t delightful\n",
      "157 \t:\t unique\n",
      "157 \t:\t greatest\n",
      "156 \t:\t recommended\n",
      "148 \t:\t beauty\n",
      "148 \t:\t gem\n",
      "145 \t:\t enjoyed\n",
      "145 \t:\t journey\n",
      "145 \t:\t tony\n",
      "144 \t:\t captures\n",
      "140 \t:\t stunning\n",
      "139 \t:\t friendship\n",
      "138 \t:\t powell\n",
      "134 \t:\t finest\n",
      "134 \t:\t welles\n",
      "133 \t:\t matthau\n",
      "131 \t:\t best\n",
      "131 \t:\t underrated\n",
      "129 \t:\t subtle\n",
      "128 \t:\t sinatra\n",
      "127 \t:\t rare\n",
      "126 \t:\t magnificent\n",
      "125 \t:\t brilliantly\n",
      "125 \t:\t refreshing\n",
      "=============================\n",
      "Negative reviews wordcounts:\n",
      "3587 \t:\t bad\n",
      "1976 \t:\t worst\n",
      "1221 \t:\t awful\n",
      "1160 \t:\t waste\n",
      "897 \t:\t terrible\n",
      "882 \t:\t stupid\n",
      "812 \t:\t boring\n",
      "809 \t:\t worse\n",
      "736 \t:\t horrible\n",
      "649 \t:\t poor\n",
      "607 \t:\t crap\n",
      "526 \t:\t supposed\n",
      "504 \t:\t poorly\n",
      "472 \t:\t minutes\n",
      "472 \t:\t lame\n",
      "440 \t:\t ridiculous\n",
      "399 \t:\t dull\n",
      "390 \t:\t nothing\n",
      "389 \t:\t annoying\n",
      "385 \t:\t pointless\n",
      "376 \t:\t avoid\n",
      "369 \t:\t badly\n",
      "354 \t:\t oh\n",
      "341 \t:\t mess\n",
      "329 \t:\t wasted\n",
      "304 \t:\t laughable\n",
      "289 \t:\t cheap\n",
      "285 \t:\t pathetic\n",
      "258 \t:\t unless\n",
      "253 \t:\t dumb\n",
      "244 \t:\t garbage\n",
      "242 \t:\t redeeming\n",
      "231 \t:\t fails\n",
      "216 \t:\t unfunny\n",
      "204 \t:\t joke\n",
      "192 \t:\t save\n",
      "192 \t:\t money\n",
      "191 \t:\t excuse\n",
      "187 \t:\t zombies\n",
      "185 \t:\t gore\n",
      "179 \t:\t sucks\n",
      "176 \t:\t predictable\n",
      "166 \t:\t script\n",
      "165 \t:\t bother\n",
      "160 \t:\t lousy\n",
      "159 \t:\t wooden\n",
      "159 \t:\t fake\n",
      "154 \t:\t blah\n",
      "153 \t:\t sorry\n",
      "153 \t:\t mst\n"
     ]
    }
   ],
   "source": [
    "print('Positive reviews wordcounts:')\n",
    "for (w,c) in pos_count.most_common(50): print(c, '\\t:\\t', w)\n",
    "\n",
    "print('=============================')\n",
    "\n",
    "print('Negative reviews wordcounts:')\n",
    "for (w,c) in neg_count.most_common(50): print(c, '\\t:\\t', w)"
   ]
  }
 ],
 "metadata": {
  "anaconda-cloud": {},
  "kernelspec": {
   "display_name": "Python 3",
   "language": "python",
   "name": "python3"
  },
  "language_info": {
   "codemirror_mode": {
    "name": "ipython",
    "version": 3
   },
   "file_extension": ".py",
   "mimetype": "text/x-python",
   "name": "python",
   "nbconvert_exporter": "python",
   "pygments_lexer": "ipython3",
   "version": "3.6.0"
  }
 },
 "nbformat": 4,
 "nbformat_minor": 1
}
