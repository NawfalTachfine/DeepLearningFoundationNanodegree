{
 "cells": [
  {
   "cell_type": "markdown",
   "metadata": {
    "collapsed": true
   },
   "source": [
    "# Language Translation\n",
    "In this project, you’re going to take a peek into the realm of neural network machine translation.  You’ll be training a sequence to sequence model on a dataset of English and French sentences that can translate new sentences from English to French.\n",
    "## Get the Data\n",
    "Since translating the whole language of English to French will take lots of time to train, we have provided you with a small portion of the English corpus."
   ]
  },
  {
   "cell_type": "code",
   "execution_count": 1,
   "metadata": {
    "collapsed": true
   },
   "outputs": [],
   "source": [
    "\"\"\"\n",
    "DON'T MODIFY ANYTHING IN THIS CELL\n",
    "\"\"\"\n",
    "import helper\n",
    "import problem_unittests as tests\n",
    "\n",
    "source_path = 'data/small_vocab_en'\n",
    "target_path = 'data/small_vocab_fr'\n",
    "source_text = helper.load_data(source_path)\n",
    "target_text = helper.load_data(target_path)"
   ]
  },
  {
   "cell_type": "markdown",
   "metadata": {},
   "source": [
    "## Explore the Data\n",
    "Play around with view_sentence_range to view different parts of the data."
   ]
  },
  {
   "cell_type": "code",
   "execution_count": 2,
   "metadata": {},
   "outputs": [
    {
     "name": "stdout",
     "output_type": "stream",
     "text": [
      "Dataset Stats\n",
      "Roughly the number of unique words: 227\n",
      "Number of sentences: 137861\n",
      "Average number of words in a sentence: 13.225277634719028\n",
      "\n",
      "English sentences 0 to 10:\n",
      "new jersey is sometimes quiet during autumn , and it is snowy in april .\n",
      "the united states is usually chilly during july , and it is usually freezing in november .\n",
      "california is usually quiet during march , and it is usually hot in june .\n",
      "the united states is sometimes mild during june , and it is cold in september .\n",
      "your least liked fruit is the grape , but my least liked is the apple .\n",
      "his favorite fruit is the orange , but my favorite is the grape .\n",
      "paris is relaxing during december , but it is usually chilly in july .\n",
      "new jersey is busy during spring , and it is never hot in march .\n",
      "our least liked fruit is the lemon , but my least liked is the grape .\n",
      "the united states is sometimes busy during january , and it is sometimes warm in november .\n",
      "\n",
      "French sentences 0 to 10:\n",
      "new jersey est parfois calme pendant l' automne , et il est neigeux en avril .\n",
      "les états-unis est généralement froid en juillet , et il gèle habituellement en novembre .\n",
      "california est généralement calme en mars , et il est généralement chaud en juin .\n",
      "les états-unis est parfois légère en juin , et il fait froid en septembre .\n",
      "votre moins aimé fruit est le raisin , mais mon moins aimé est la pomme .\n",
      "son fruit préféré est l'orange , mais mon préféré est le raisin .\n",
      "paris est relaxant en décembre , mais il est généralement froid en juillet .\n",
      "new jersey est occupé au printemps , et il est jamais chaude en mars .\n",
      "notre fruit est moins aimé le citron , mais mon moins aimé est le raisin .\n",
      "les états-unis est parfois occupé en janvier , et il est parfois chaud en novembre .\n"
     ]
    }
   ],
   "source": [
    "view_sentence_range = (0, 10)\n",
    "\n",
    "\"\"\"\n",
    "DON'T MODIFY ANYTHING IN THIS CELL\n",
    "\"\"\"\n",
    "import numpy as np\n",
    "\n",
    "print('Dataset Stats')\n",
    "print('Roughly the number of unique words: {}'.format(len({word: None for word in source_text.split()})))\n",
    "\n",
    "sentences = source_text.split('\\n')\n",
    "word_counts = [len(sentence.split()) for sentence in sentences]\n",
    "print('Number of sentences: {}'.format(len(sentences)))\n",
    "print('Average number of words in a sentence: {}'.format(np.average(word_counts)))\n",
    "\n",
    "print()\n",
    "print('English sentences {} to {}:'.format(*view_sentence_range))\n",
    "print('\\n'.join(source_text.split('\\n')[view_sentence_range[0]:view_sentence_range[1]]))\n",
    "print()\n",
    "print('French sentences {} to {}:'.format(*view_sentence_range))\n",
    "print('\\n'.join(target_text.split('\\n')[view_sentence_range[0]:view_sentence_range[1]]))"
   ]
  },
  {
   "cell_type": "markdown",
   "metadata": {},
   "source": [
    "## Implement Preprocessing Function\n",
    "### Text to Word Ids\n",
    "As you did with other RNNs, you must turn the text into a number so the computer can understand it. In the function `text_to_ids()`, you'll turn `source_text` and `target_text` from words to ids.  However, you need to add the `<EOS>` word id at the end of `target_text`.  This will help the neural network predict when the sentence should end.\n",
    "\n",
    "You can get the `<EOS>` word id by doing:\n",
    "```python\n",
    "target_vocab_to_int['<EOS>']\n",
    "```\n",
    "You can get other word ids using `source_vocab_to_int` and `target_vocab_to_int`."
   ]
  },
  {
   "cell_type": "code",
   "execution_count": 3,
   "metadata": {},
   "outputs": [
    {
     "name": "stdout",
     "output_type": "stream",
     "text": [
      "Tests Passed\n"
     ]
    }
   ],
   "source": [
    "def text_to_ids(source_text, target_text, source_vocab_to_int, target_vocab_to_int):\n",
    "    \"\"\"\n",
    "    Convert source and target text to proper word ids\n",
    "    :param source_text: String that contains all the source text.\n",
    "    :param target_text: String that contains all the target text.\n",
    "    :param source_vocab_to_int: Dictionary to go from the source words to an id\n",
    "    :param target_vocab_to_int: Dictionary to go from the target words to an id\n",
    "    :return: A tuple of lists (source_id_text, target_id_text)\n",
    "    \"\"\"\n",
    "    # TODO: Implement Function\n",
    "    \n",
    "    source_id_text = [[source_vocab_to_int[w] for w in s.split()] for s in source_text.split('\\n')]\n",
    "    target_id_text = [[target_vocab_to_int[w] for w in s.split()] + [target_vocab_to_int['<EOS>']] for s in target_text.split('\\n')] \n",
    "    \n",
    "    return source_id_text, target_id_text\n",
    "\n",
    "\"\"\"\n",
    "DON'T MODIFY ANYTHING IN THIS CELL THAT IS BELOW THIS LINE\n",
    "\"\"\"\n",
    "tests.test_text_to_ids(text_to_ids)"
   ]
  },
  {
   "cell_type": "markdown",
   "metadata": {},
   "source": [
    "### Preprocess all the data and save it\n",
    "Running the code cell below will preprocess all the data and save it to file."
   ]
  },
  {
   "cell_type": "code",
   "execution_count": 4,
   "metadata": {
    "collapsed": true
   },
   "outputs": [],
   "source": [
    "\"\"\"\n",
    "DON'T MODIFY ANYTHING IN THIS CELL\n",
    "\"\"\"\n",
    "helper.preprocess_and_save_data(source_path, target_path, text_to_ids)"
   ]
  },
  {
   "cell_type": "markdown",
   "metadata": {},
   "source": [
    "# Check Point\n",
    "This is your first checkpoint. If you ever decide to come back to this notebook or have to restart the notebook, you can start from here. The preprocessed data has been saved to disk."
   ]
  },
  {
   "cell_type": "code",
   "execution_count": 5,
   "metadata": {
    "collapsed": true
   },
   "outputs": [],
   "source": [
    "\"\"\"\n",
    "DON'T MODIFY ANYTHING IN THIS CELL\n",
    "\"\"\"\n",
    "import numpy as np\n",
    "import helper\n",
    "\n",
    "(source_int_text, target_int_text), (source_vocab_to_int, target_vocab_to_int), _ = helper.load_preprocess()"
   ]
  },
  {
   "cell_type": "markdown",
   "metadata": {},
   "source": [
    "### Check the Version of TensorFlow and Access to GPU\n",
    "This will check to make sure you have the correct version of TensorFlow and access to a GPU"
   ]
  },
  {
   "cell_type": "code",
   "execution_count": 6,
   "metadata": {},
   "outputs": [
    {
     "name": "stdout",
     "output_type": "stream",
     "text": [
      "TensorFlow Version: 1.1.0\n",
      "Default GPU Device: /gpu:0\n"
     ]
    }
   ],
   "source": [
    "\"\"\"\n",
    "DON'T MODIFY ANYTHING IN THIS CELL\n",
    "\"\"\"\n",
    "from distutils.version import LooseVersion\n",
    "import warnings\n",
    "import tensorflow as tf\n",
    "from tensorflow.python.layers.core import Dense\n",
    "\n",
    "# Check TensorFlow Version\n",
    "assert LooseVersion(tf.__version__) >= LooseVersion('1.1'), 'Please use TensorFlow version 1.1 or newer'\n",
    "print('TensorFlow Version: {}'.format(tf.__version__))\n",
    "\n",
    "# Check for a GPU\n",
    "if not tf.test.gpu_device_name():\n",
    "    warnings.warn('No GPU found. Please use a GPU to train your neural network.')\n",
    "else:\n",
    "    print('Default GPU Device: {}'.format(tf.test.gpu_device_name()))"
   ]
  },
  {
   "cell_type": "markdown",
   "metadata": {},
   "source": [
    "## Build the Neural Network\n",
    "You'll build the components necessary to build a Sequence-to-Sequence model by implementing the following functions below:\n",
    "- `model_inputs`\n",
    "- `process_decoder_input`\n",
    "- `encoding_layer`\n",
    "- `decoding_layer_train`\n",
    "- `decoding_layer_infer`\n",
    "- `decoding_layer`\n",
    "- `seq2seq_model`\n",
    "\n",
    "### Input\n",
    "Implement the `model_inputs()` function to create TF Placeholders for the Neural Network. It should create the following placeholders:\n",
    "\n",
    "- Input text placeholder named \"input\" using the TF Placeholder name parameter with rank 2.\n",
    "- Targets placeholder with rank 2.\n",
    "- Learning rate placeholder with rank 0.\n",
    "- Keep probability placeholder named \"keep_prob\" using the TF Placeholder name parameter with rank 0.\n",
    "- Target sequence length placeholder named \"target_sequence_length\" with rank 1\n",
    "- Max target sequence length tensor named \"max_target_len\" getting its value from applying tf.reduce_max on the target_sequence_length placeholder. Rank 0.\n",
    "- Source sequence length placeholder named \"source_sequence_length\" with rank 1\n",
    "\n",
    "Return the placeholders in the following the tuple (input, targets, learning rate, keep probability, target sequence length, max target sequence length, source sequence length)"
   ]
  },
  {
   "cell_type": "code",
   "execution_count": 7,
   "metadata": {},
   "outputs": [
    {
     "name": "stdout",
     "output_type": "stream",
     "text": [
      "Tests Passed\n"
     ]
    }
   ],
   "source": [
    "def model_inputs():\n",
    "    \"\"\"\n",
    "    Create TF Placeholders for input, targets, learning rate, and lengths of source and target sequences.\n",
    "    :return: Tuple (input, targets, learning rate, keep probability, target sequence length,\n",
    "    max target sequence length, source sequence length)\n",
    "    \"\"\"\n",
    "    # TODO: Implement Function\n",
    "    \n",
    "    inputs = tf.placeholder(tf.int32, [None, None], name='input')\n",
    "    targets = tf.placeholder(tf.int32, [None, None], name='targets')\n",
    "    lr = tf.placeholder(tf.float32, name='learning_rate')\n",
    "    keep_prob = tf.placeholder(tf.float32, name='keep_prob')\n",
    "    target_seq_len = tf.placeholder(tf.int32, [None], name='target_sequence_length')\n",
    "    max_target_len = tf.reduce_max(target_seq_len, name='max_target_len')\n",
    "    source_seq_len = tf.placeholder(tf.int32, [None], name='source_sequence_length')\n",
    "    \n",
    "    return inputs, targets, lr, keep_prob, target_seq_len, max_target_len, source_seq_len\n",
    "\n",
    "\n",
    "\"\"\"\n",
    "DON'T MODIFY ANYTHING IN THIS CELL THAT IS BELOW THIS LINE\n",
    "\"\"\"\n",
    "tests.test_model_inputs(model_inputs)"
   ]
  },
  {
   "cell_type": "markdown",
   "metadata": {},
   "source": [
    "### Process Decoder Input\n",
    "Implement `process_decoder_input` by removing the last word id from each batch in `target_data` and concat the GO ID to the begining of each batch."
   ]
  },
  {
   "cell_type": "code",
   "execution_count": 8,
   "metadata": {},
   "outputs": [
    {
     "name": "stdout",
     "output_type": "stream",
     "text": [
      "Tests Passed\n"
     ]
    }
   ],
   "source": [
    "def process_decoder_input(target_data, target_vocab_to_int, batch_size):\n",
    "    \"\"\"\n",
    "    Preprocess target data for encoding\n",
    "    :param target_data: Target Placehoder\n",
    "    :param target_vocab_to_int: Dictionary to go from the target words to an id\n",
    "    :param batch_size: Batch Size\n",
    "    :return: Preprocessed target data\n",
    "    \"\"\"\n",
    "    # TODO: Implement Function\n",
    "    \n",
    "    ending = tf.strided_slice(target_data, [0, 0], [batch_size, -1], [1, 1])\n",
    "    #dec_input = tf.concat([tf.fill([batch_size, 1], target_vocab_to_int['<GO>']), ending], 1)\n",
    "    \"\"\"\n",
    "    preproc_target = []\n",
    "    for i in range(len(target_data)//batch_size):\n",
    "        t = target_data[i*batch_size : min((i+1)*batch_size-1, len(target_data)-1)]\n",
    "        preproc_target.append([target_vocab_to_int['<GO>']] + t[:-1])\n",
    "    print(target_data)\n",
    "    \"\"\"\n",
    "    return tf.concat([tf.fill([batch_size, 1], target_vocab_to_int['<GO>']), ending], 1)\n",
    "\n",
    "\"\"\"\n",
    "DON'T MODIFY ANYTHING IN THIS CELL THAT IS BELOW THIS LINE\n",
    "\"\"\"\n",
    "tests.test_process_encoding_input(process_decoder_input)"
   ]
  },
  {
   "cell_type": "markdown",
   "metadata": {},
   "source": [
    "### Encoding\n",
    "Implement `encoding_layer()` to create a Encoder RNN layer:\n",
    " * Embed the encoder input using [`tf.contrib.layers.embed_sequence`](https://www.tensorflow.org/api_docs/python/tf/contrib/layers/embed_sequence)\n",
    " * Construct a [stacked](https://github.com/tensorflow/tensorflow/blob/6947f65a374ebf29e74bb71e36fd82760056d82c/tensorflow/docs_src/tutorials/recurrent.md#stacking-multiple-lstms) [`tf.contrib.rnn.LSTMCell`](https://www.tensorflow.org/api_docs/python/tf/contrib/rnn/LSTMCell) wrapped in a [`tf.contrib.rnn.DropoutWrapper`](https://www.tensorflow.org/api_docs/python/tf/contrib/rnn/DropoutWrapper)\n",
    " * Pass cell and embedded input to [`tf.nn.dynamic_rnn()`](https://www.tensorflow.org/api_docs/python/tf/nn/dynamic_rnn)"
   ]
  },
  {
   "cell_type": "code",
   "execution_count": 9,
   "metadata": {
    "scrolled": false
   },
   "outputs": [
    {
     "name": "stdout",
     "output_type": "stream",
     "text": [
      "Tests Passed\n"
     ]
    }
   ],
   "source": [
    "from imp import reload\n",
    "reload(tests)\n",
    "\n",
    "def encoding_layer(rnn_inputs, rnn_size, num_layers, keep_prob, \n",
    "                   source_sequence_length, source_vocab_size, \n",
    "                   encoding_embedding_size):\n",
    "    \"\"\"\n",
    "    Create encoding layer\n",
    "    :param rnn_inputs: Inputs for the RNN\n",
    "    :param rnn_size: RNN Size\n",
    "    :param num_layers: Number of layers\n",
    "    :param keep_prob: Dropout keep probability\n",
    "    :param source_sequence_length: a list of the lengths of each sequence in the batch\n",
    "    :param source_vocab_size: vocabulary size of source data\n",
    "    :param encoding_embedding_size: embedding size of source data\n",
    "    :return: tuple (RNN output, RNN state)\n",
    "    \"\"\"\n",
    "    # TODO: Implement Function\n",
    "    \n",
    "    enc_input = tf.contrib.layers.embed_sequence(rnn_inputs, source_vocab_size, encoding_embedding_size)\n",
    "    \n",
    "    def make_cell(rnn_size, keep_prob):\n",
    "        cell = tf.contrib.rnn.LSTMCell(rnn_size, initializer=tf.random_uniform_initializer(-0.1, 0.1))\n",
    "        cell = tf.contrib.rnn.DropoutWrapper(cell, output_keep_prob=keep_prob)\n",
    "        return cell\n",
    "    \n",
    "    cells = tf.contrib.rnn.MultiRNNCell([make_cell(rnn_size, keep_prob) for _ in range(num_layers)])\n",
    "    \n",
    "    enc_output, enc_state = tf.nn.dynamic_rnn(cells, inputs=enc_input, sequence_length=source_sequence_length, dtype=tf.float32)\n",
    "    \n",
    "    return enc_output, enc_state\n",
    "\n",
    "\"\"\"\n",
    "DON'T MODIFY ANYTHING IN THIS CELL THAT IS BELOW THIS LINE\n",
    "\"\"\"\n",
    "tests.test_encoding_layer(encoding_layer)"
   ]
  },
  {
   "cell_type": "markdown",
   "metadata": {},
   "source": [
    "### Decoding - Training\n",
    "Create a training decoding layer:\n",
    "* Create a [`tf.contrib.seq2seq.TrainingHelper`](https://www.tensorflow.org/api_docs/python/tf/contrib/seq2seq/TrainingHelper) \n",
    "* Create a [`tf.contrib.seq2seq.BasicDecoder`](https://www.tensorflow.org/api_docs/python/tf/contrib/seq2seq/BasicDecoder)\n",
    "* Obtain the decoder outputs from [`tf.contrib.seq2seq.dynamic_decode`](https://www.tensorflow.org/api_docs/python/tf/contrib/seq2seq/dynamic_decode)"
   ]
  },
  {
   "cell_type": "code",
   "execution_count": 10,
   "metadata": {},
   "outputs": [
    {
     "name": "stdout",
     "output_type": "stream",
     "text": [
      "Tests Passed\n"
     ]
    }
   ],
   "source": [
    "\n",
    "def decoding_layer_train(encoder_state, dec_cell, dec_embed_input, \n",
    "                         target_sequence_length, max_summary_length, \n",
    "                         output_layer, keep_prob):\n",
    "    \"\"\"\n",
    "    Create a decoding layer for training\n",
    "    :param encoder_state: Encoder State\n",
    "    :param dec_cell: Decoder RNN Cell\n",
    "    :param dec_embed_input: Decoder embedded input\n",
    "    :param target_sequence_length: The lengths of each sequence in the target batch\n",
    "    :param max_summary_length: The length of the longest sequence in the batch\n",
    "    :param output_layer: Function to apply the output layer\n",
    "    :param keep_prob: Dropout keep probability\n",
    "    :return: BasicDecoderOutput containing training logits and sample_id\n",
    "    \"\"\"\n",
    "    # TODO: Implement Function\n",
    "    \n",
    "    helper = tf.contrib.seq2seq.TrainingHelper(inputs=dec_embed_input, time_major=False, sequence_length=target_sequence_length)\n",
    "    \n",
    "    decoder = tf.contrib.seq2seq.BasicDecoder(dec_cell, helper, encoder_state, output_layer)\n",
    "    \n",
    "    dec_output, _ = tf.contrib.seq2seq.dynamic_decode(decoder, impute_finished=True, maximum_iterations=max_summary_length)\n",
    "    \n",
    "    return dec_output\n",
    "\n",
    "\n",
    "\n",
    "\"\"\"\n",
    "DON'T MODIFY ANYTHING IN THIS CELL THAT IS BELOW THIS LINE\n",
    "\"\"\"\n",
    "tests.test_decoding_layer_train(decoding_layer_train)"
   ]
  },
  {
   "cell_type": "markdown",
   "metadata": {},
   "source": [
    "### Decoding - Inference\n",
    "Create inference decoder:\n",
    "* Create a [`tf.contrib.seq2seq.GreedyEmbeddingHelper`](https://www.tensorflow.org/api_docs/python/tf/contrib/seq2seq/GreedyEmbeddingHelper)\n",
    "* Create a [`tf.contrib.seq2seq.BasicDecoder`](https://www.tensorflow.org/api_docs/python/tf/contrib/seq2seq/BasicDecoder)\n",
    "* Obtain the decoder outputs from [`tf.contrib.seq2seq.dynamic_decode`](https://www.tensorflow.org/api_docs/python/tf/contrib/seq2seq/dynamic_decode)"
   ]
  },
  {
   "cell_type": "code",
   "execution_count": 11,
   "metadata": {
    "scrolled": true
   },
   "outputs": [
    {
     "name": "stdout",
     "output_type": "stream",
     "text": [
      "Tests Passed\n"
     ]
    }
   ],
   "source": [
    "def decoding_layer_infer(encoder_state, dec_cell, dec_embeddings, start_of_sequence_id,\n",
    "                         end_of_sequence_id, max_target_sequence_length,\n",
    "                         vocab_size, output_layer, batch_size, keep_prob):\n",
    "    \"\"\"\n",
    "    Create a decoding layer for inference\n",
    "    :param encoder_state: Encoder state\n",
    "    :param dec_cell: Decoder RNN Cell\n",
    "    :param dec_embeddings: Decoder embeddings\n",
    "    :param start_of_sequence_id: GO ID\n",
    "    :param end_of_sequence_id: EOS Id\n",
    "    :param max_target_sequence_length: Maximum length of target sequences\n",
    "    :param vocab_size: Size of decoder/target vocabulary\n",
    "    :param decoding_scope: TenorFlow Variable Scope for decoding\n",
    "    :param output_layer: Function to apply the output layer\n",
    "    :param batch_size: Batch size\n",
    "    :param keep_prob: Dropout keep probability\n",
    "    :return: BasicDecoderOutput containing inference logits and sample_id\n",
    "    \"\"\"\n",
    "    # TODO: Implement Function\n",
    "    \n",
    "    start_tokens = tf.tile(tf.constant([start_of_sequence_id], dtype=tf.int32), [batch_size], name='start_tokens')\n",
    "    \n",
    "    helper = tf.contrib.seq2seq.GreedyEmbeddingHelper(dec_embeddings, start_tokens, end_of_sequence_id)\n",
    "    \n",
    "    decoder = tf.contrib.seq2seq.BasicDecoder(dec_cell, helper, encoder_state, output_layer)\n",
    "    \n",
    "    output, _ = tf.contrib.seq2seq.dynamic_decode(decoder, impute_finished=True, maximum_iterations=max_target_sequence_length)\n",
    "    \n",
    "    return output\n",
    "\n",
    "\n",
    "\n",
    "\"\"\"\n",
    "DON'T MODIFY ANYTHING IN THIS CELL THAT IS BELOW THIS LINE\n",
    "\"\"\"\n",
    "tests.test_decoding_layer_infer(decoding_layer_infer)"
   ]
  },
  {
   "cell_type": "markdown",
   "metadata": {},
   "source": [
    "### Build the Decoding Layer\n",
    "Implement `decoding_layer()` to create a Decoder RNN layer.\n",
    "\n",
    "* Embed the target sequences\n",
    "* Construct the decoder LSTM cell (just like you constructed the encoder cell above)\n",
    "* Create an output layer to map the outputs of the decoder to the elements of our vocabulary\n",
    "* Use the your `decoding_layer_train(encoder_state, dec_cell, dec_embed_input, target_sequence_length, max_target_sequence_length, output_layer, keep_prob)` function to get the training logits.\n",
    "* Use your `decoding_layer_infer(encoder_state, dec_cell, dec_embeddings, start_of_sequence_id, end_of_sequence_id, max_target_sequence_length, vocab_size, output_layer, batch_size, keep_prob)` function to get the inference logits.\n",
    "\n",
    "Note: You'll need to use [tf.variable_scope](https://www.tensorflow.org/api_docs/python/tf/variable_scope) to share variables between training and inference."
   ]
  },
  {
   "cell_type": "code",
   "execution_count": 12,
   "metadata": {},
   "outputs": [
    {
     "name": "stdout",
     "output_type": "stream",
     "text": [
      "Tests Passed\n"
     ]
    }
   ],
   "source": [
    "def decoding_layer(dec_input, encoder_state,\n",
    "                   target_sequence_length, max_target_sequence_length,\n",
    "                   rnn_size,\n",
    "                   num_layers, target_vocab_to_int, target_vocab_size,\n",
    "                   batch_size, keep_prob, decoding_embedding_size):\n",
    "    \"\"\"\n",
    "    Create decoding layer\n",
    "    :param dec_input: Decoder input\n",
    "    :param encoder_state: Encoder state\n",
    "    :param target_sequence_length: The lengths of each sequence in the target batch\n",
    "    :param max_target_sequence_length: Maximum length of target sequences\n",
    "    :param rnn_size: RNN Size\n",
    "    :param num_layers: Number of layers\n",
    "    :param target_vocab_to_int: Dictionary to go from the target words to an id\n",
    "    :param target_vocab_size: Size of target vocabulary\n",
    "    :param batch_size: The size of the batch\n",
    "    :param keep_prob: Dropout keep probability\n",
    "    :param decoding_embedding_size: Decoding embedding size\n",
    "    :return: Tuple of (Training BasicDecoderOutput, Inference BasicDecoderOutput)\n",
    "    \"\"\"\n",
    "    # TODO: Implement Function\n",
    "    \n",
    "    # embedding target sequences\n",
    "    dec_embeddings = tf.Variable(tf.random_uniform([target_vocab_size, decoding_embedding_size]))\n",
    "    dec_embed_input = tf.nn.embedding_lookup(dec_embeddings, dec_input)\n",
    "    \n",
    "    # constructing decode LSTM \n",
    "    def make_cell(rnn_size):\n",
    "        dec_cell = tf.contrib.rnn.LSTMCell(\n",
    "            rnn_size,\n",
    "            initializer = tf.random_uniform_initializer(-0.1, 0.1)\n",
    "        )\n",
    "        return dec_cell\n",
    "    \n",
    "    dec_cell = tf.contrib.rnn.MultiRNNCell([make_cell(rnn_size) for _ in range(num_layers)])\n",
    "    \n",
    "    # creating output layer\n",
    "    output_layer = Dense(target_vocab_size, kernel_initializer=tf.truncated_normal_initializer(mean=0.0, stddev=0.1))\n",
    "    \n",
    "    with tf.variable_scope('decode'):\n",
    "        train_output = decoding_layer_train(\n",
    "            encoder_state, \n",
    "            dec_cell, \n",
    "            dec_embed_input, \n",
    "            target_sequence_length, \n",
    "            max_target_sequence_length, \n",
    "            output_layer, \n",
    "            keep_prob\n",
    "        )\n",
    "        \n",
    "    with tf.variable_scope('decode', reuse=True):\n",
    "        infer_output = decoding_layer_infer(\n",
    "            encoder_state, \n",
    "            dec_cell, \n",
    "            dec_embeddings, \n",
    "            target_vocab_to_int['<GO>'], \n",
    "            target_vocab_to_int['<EOS>'], \n",
    "            max_target_sequence_length, \n",
    "            target_vocab_size, \n",
    "            output_layer, \n",
    "            batch_size, \n",
    "            keep_prob\n",
    "        )\n",
    "    \n",
    "    return train_output, infer_output\n",
    "\n",
    "\n",
    "\n",
    "\"\"\"\n",
    "DON'T MODIFY ANYTHING IN THIS CELL THAT IS BELOW THIS LINE\n",
    "\"\"\"\n",
    "tests.test_decoding_layer(decoding_layer)"
   ]
  },
  {
   "cell_type": "markdown",
   "metadata": {},
   "source": [
    "### Build the Neural Network\n",
    "Apply the functions you implemented above to:\n",
    "\n",
    "- Encode the input using your `encoding_layer(rnn_inputs, rnn_size, num_layers, keep_prob,  source_sequence_length, source_vocab_size, encoding_embedding_size)`.\n",
    "- Process target data using your `process_decoder_input(target_data, target_vocab_to_int, batch_size)` function.\n",
    "- Decode the encoded input using your `decoding_layer(dec_input, enc_state, target_sequence_length, max_target_sentence_length, rnn_size, num_layers, target_vocab_to_int, target_vocab_size, batch_size, keep_prob, dec_embedding_size)` function."
   ]
  },
  {
   "cell_type": "code",
   "execution_count": 13,
   "metadata": {},
   "outputs": [
    {
     "name": "stdout",
     "output_type": "stream",
     "text": [
      "Tests Passed\n"
     ]
    }
   ],
   "source": [
    "def seq2seq_model(input_data, target_data, keep_prob, batch_size,\n",
    "                  source_sequence_length, target_sequence_length,\n",
    "                  max_target_sentence_length,\n",
    "                  source_vocab_size, target_vocab_size,\n",
    "                  enc_embedding_size, dec_embedding_size,\n",
    "                  rnn_size, num_layers, target_vocab_to_int):\n",
    "    \"\"\"\n",
    "    Build the Sequence-to-Sequence part of the neural network\n",
    "    :param input_data: Input placeholder\n",
    "    :param target_data: Target placeholder\n",
    "    :param keep_prob: Dropout keep probability placeholder\n",
    "    :param batch_size: Batch Size\n",
    "    :param source_sequence_length: Sequence Lengths of source sequences in the batch\n",
    "    :param target_sequence_length: Sequence Lengths of target sequences in the batch\n",
    "    :param source_vocab_size: Source vocabulary size\n",
    "    :param target_vocab_size: Target vocabulary size\n",
    "    :param enc_embedding_size: Decoder embedding size\n",
    "    :param dec_embedding_size: Encoder embedding size\n",
    "    :param rnn_size: RNN Size\n",
    "    :param num_layers: Number of layers\n",
    "    :param target_vocab_to_int: Dictionary to go from the target words to an id\n",
    "    :return: Tuple of (Training BasicDecoderOutput, Inference BasicDecoderOutput)\n",
    "    \"\"\"\n",
    "    # TODO: Implement Function\n",
    "    \n",
    "    # encoding inputs\n",
    "    _, enc_state = encoding_layer(\n",
    "        input_data, \n",
    "        rnn_size, \n",
    "        num_layers, \n",
    "        keep_prob, \n",
    "        source_sequence_length, \n",
    "        source_vocab_size, \n",
    "        enc_embedding_size\n",
    "    )\n",
    "    \n",
    "    # processing targets\n",
    "    dec_input = process_decoder_input(target_data, target_vocab_to_int, batch_size)\n",
    "    \n",
    "    # decoding the encoded *deep*\n",
    "    training_decoder_output, inference_decoder_output = decoding_layer(\n",
    "        dec_input, \n",
    "        enc_state, \n",
    "        target_sequence_length, \n",
    "        max_target_sentence_length, \n",
    "        rnn_size, \n",
    "        num_layers, \n",
    "        target_vocab_to_int, \n",
    "        target_vocab_size, \n",
    "        batch_size, \n",
    "        keep_prob, \n",
    "        dec_embedding_size\n",
    "    )\n",
    "    \n",
    "    return training_decoder_output, inference_decoder_output\n",
    "\n",
    "\n",
    "\"\"\"\n",
    "DON'T MODIFY ANYTHING IN THIS CELL THAT IS BELOW THIS LINE\n",
    "\"\"\"\n",
    "tests.test_seq2seq_model(seq2seq_model)"
   ]
  },
  {
   "cell_type": "markdown",
   "metadata": {},
   "source": [
    "## Neural Network Training\n",
    "### Hyperparameters\n",
    "Tune the following parameters:\n",
    "\n",
    "- Set `epochs` to the number of epochs.\n",
    "- Set `batch_size` to the batch size.\n",
    "- Set `rnn_size` to the size of the RNNs.\n",
    "- Set `num_layers` to the number of layers.\n",
    "- Set `encoding_embedding_size` to the size of the embedding for the encoder.\n",
    "- Set `decoding_embedding_size` to the size of the embedding for the decoder.\n",
    "- Set `learning_rate` to the learning rate.\n",
    "- Set `keep_probability` to the Dropout keep probability\n",
    "- Set `display_step` to state how many steps between each debug output statement"
   ]
  },
  {
   "cell_type": "code",
   "execution_count": 14,
   "metadata": {
    "collapsed": true
   },
   "outputs": [],
   "source": [
    "# Number of Epochs\n",
    "epochs = 20\n",
    "# Batch Size\n",
    "batch_size = 128\n",
    "# RNN Size\n",
    "rnn_size = 64\n",
    "# Number of Layers\n",
    "num_layers = 2\n",
    "# Embedding Size\n",
    "encoding_embedding_size = 200\n",
    "decoding_embedding_size = 200\n",
    "# Learning Rate\n",
    "learning_rate = 0.001\n",
    "# Dropout Keep Probability\n",
    "keep_probability = 0.75\n",
    "display_step = 100"
   ]
  },
  {
   "cell_type": "markdown",
   "metadata": {},
   "source": [
    "### Build the Graph\n",
    "Build the graph using the neural network you implemented."
   ]
  },
  {
   "cell_type": "code",
   "execution_count": 15,
   "metadata": {
    "collapsed": true
   },
   "outputs": [],
   "source": [
    "\"\"\"\n",
    "DON'T MODIFY ANYTHING IN THIS CELL\n",
    "\"\"\"\n",
    "save_path = 'checkpoints/dev'\n",
    "(source_int_text, target_int_text), (source_vocab_to_int, target_vocab_to_int), _ = helper.load_preprocess()\n",
    "max_target_sentence_length = max([len(sentence) for sentence in source_int_text])\n",
    "\n",
    "train_graph = tf.Graph()\n",
    "with train_graph.as_default():\n",
    "    input_data, targets, lr, keep_prob, target_sequence_length, max_target_sequence_length, source_sequence_length = model_inputs()\n",
    "\n",
    "    #sequence_length = tf.placeholder_with_default(max_target_sentence_length, None, name='sequence_length')\n",
    "    input_shape = tf.shape(input_data)\n",
    "\n",
    "    train_logits, inference_logits = seq2seq_model(tf.reverse(input_data, [-1]),\n",
    "                                                   targets,\n",
    "                                                   keep_prob,\n",
    "                                                   batch_size,\n",
    "                                                   source_sequence_length,\n",
    "                                                   target_sequence_length,\n",
    "                                                   max_target_sequence_length,\n",
    "                                                   len(source_vocab_to_int),\n",
    "                                                   len(target_vocab_to_int),\n",
    "                                                   encoding_embedding_size,\n",
    "                                                   decoding_embedding_size,\n",
    "                                                   rnn_size,\n",
    "                                                   num_layers,\n",
    "                                                   target_vocab_to_int)\n",
    "\n",
    "\n",
    "    training_logits = tf.identity(train_logits.rnn_output, name='logits')\n",
    "    inference_logits = tf.identity(inference_logits.sample_id, name='predictions')\n",
    "\n",
    "    masks = tf.sequence_mask(target_sequence_length, max_target_sequence_length, dtype=tf.float32, name='masks')\n",
    "\n",
    "    with tf.name_scope(\"optimization\"):\n",
    "        # Loss function\n",
    "        cost = tf.contrib.seq2seq.sequence_loss(\n",
    "            training_logits,\n",
    "            targets,\n",
    "            masks)\n",
    "\n",
    "        # Optimizer\n",
    "        optimizer = tf.train.AdamOptimizer(lr)\n",
    "\n",
    "        # Gradient Clipping\n",
    "        gradients = optimizer.compute_gradients(cost)\n",
    "        capped_gradients = [(tf.clip_by_value(grad, -1., 1.), var) for grad, var in gradients if grad is not None]\n",
    "        train_op = optimizer.apply_gradients(capped_gradients)\n"
   ]
  },
  {
   "cell_type": "markdown",
   "metadata": {},
   "source": [
    "Batch and pad the source and target sequences"
   ]
  },
  {
   "cell_type": "code",
   "execution_count": 16,
   "metadata": {
    "collapsed": true
   },
   "outputs": [],
   "source": [
    "\"\"\"\n",
    "DON'T MODIFY ANYTHING IN THIS CELL\n",
    "\"\"\"\n",
    "def pad_sentence_batch(sentence_batch, pad_int):\n",
    "    \"\"\"Pad sentences with <PAD> so that each sentence of a batch has the same length\"\"\"\n",
    "    max_sentence = max([len(sentence) for sentence in sentence_batch])\n",
    "    return [sentence + [pad_int] * (max_sentence - len(sentence)) for sentence in sentence_batch]\n",
    "\n",
    "\n",
    "def get_batches(sources, targets, batch_size, source_pad_int, target_pad_int):\n",
    "    \"\"\"Batch targets, sources, and the lengths of their sentences together\"\"\"\n",
    "    for batch_i in range(0, len(sources)//batch_size):\n",
    "        start_i = batch_i * batch_size\n",
    "\n",
    "        # Slice the right amount for the batch\n",
    "        sources_batch = sources[start_i:start_i + batch_size]\n",
    "        targets_batch = targets[start_i:start_i + batch_size]\n",
    "\n",
    "        # Pad\n",
    "        pad_sources_batch = np.array(pad_sentence_batch(sources_batch, source_pad_int))\n",
    "        pad_targets_batch = np.array(pad_sentence_batch(targets_batch, target_pad_int))\n",
    "\n",
    "        # Need the lengths for the _lengths parameters\n",
    "        pad_targets_lengths = []\n",
    "        for target in pad_targets_batch:\n",
    "            pad_targets_lengths.append(len(target))\n",
    "\n",
    "        pad_source_lengths = []\n",
    "        for source in pad_sources_batch:\n",
    "            pad_source_lengths.append(len(source))\n",
    "\n",
    "        yield pad_sources_batch, pad_targets_batch, pad_source_lengths, pad_targets_lengths\n"
   ]
  },
  {
   "cell_type": "markdown",
   "metadata": {},
   "source": [
    "### Train\n",
    "Train the neural network on the preprocessed data. If you have a hard time getting a good loss, check the forms to see if anyone is having the same problem."
   ]
  },
  {
   "cell_type": "code",
   "execution_count": 17,
   "metadata": {
    "scrolled": true
   },
   "outputs": [
    {
     "name": "stdout",
     "output_type": "stream",
     "text": [
      "Epoch   0 Batch  100/1077 - Train Accuracy: 0.3187, Validation Accuracy: 0.3892, Loss: 2.9436\n",
      "Epoch   0 Batch  200/1077 - Train Accuracy: 0.3902, Validation Accuracy: 0.4300, Loss: 2.4887\n",
      "Epoch   0 Batch  300/1077 - Train Accuracy: 0.4104, Validation Accuracy: 0.4883, Loss: 2.2676\n",
      "Epoch   0 Batch  400/1077 - Train Accuracy: 0.4715, Validation Accuracy: 0.5163, Loss: 1.9036\n",
      "Epoch   0 Batch  500/1077 - Train Accuracy: 0.4566, Validation Accuracy: 0.4872, Loss: 1.6179\n",
      "Epoch   0 Batch  600/1077 - Train Accuracy: 0.4963, Validation Accuracy: 0.5085, Loss: 1.3093\n",
      "Epoch   0 Batch  700/1077 - Train Accuracy: 0.4930, Validation Accuracy: 0.5554, Loss: 1.1354\n",
      "Epoch   0 Batch  800/1077 - Train Accuracy: 0.5086, Validation Accuracy: 0.5749, Loss: 1.0265\n",
      "Epoch   0 Batch  900/1077 - Train Accuracy: 0.5520, Validation Accuracy: 0.5781, Loss: 0.9412\n",
      "Epoch   0 Batch 1000/1077 - Train Accuracy: 0.6176, Validation Accuracy: 0.5938, Loss: 0.7914\n",
      "Epoch   1 Batch  100/1077 - Train Accuracy: 0.6129, Validation Accuracy: 0.5994, Loss: 0.7534\n",
      "Epoch   1 Batch  200/1077 - Train Accuracy: 0.6098, Validation Accuracy: 0.6112, Loss: 0.7211\n",
      "Epoch   1 Batch  300/1077 - Train Accuracy: 0.6147, Validation Accuracy: 0.6286, Loss: 0.6747\n",
      "Epoch   1 Batch  400/1077 - Train Accuracy: 0.6438, Validation Accuracy: 0.6321, Loss: 0.6244\n",
      "Epoch   1 Batch  500/1077 - Train Accuracy: 0.6582, Validation Accuracy: 0.6555, Loss: 0.5728\n",
      "Epoch   1 Batch  600/1077 - Train Accuracy: 0.6830, Validation Accuracy: 0.6555, Loss: 0.5151\n",
      "Epoch   1 Batch  700/1077 - Train Accuracy: 0.6512, Validation Accuracy: 0.6623, Loss: 0.5101\n",
      "Epoch   1 Batch  800/1077 - Train Accuracy: 0.6555, Validation Accuracy: 0.6602, Loss: 0.4975\n",
      "Epoch   1 Batch  900/1077 - Train Accuracy: 0.6957, Validation Accuracy: 0.6811, Loss: 0.4697\n",
      "Epoch   1 Batch 1000/1077 - Train Accuracy: 0.7530, Validation Accuracy: 0.7148, Loss: 0.4035\n",
      "Epoch   2 Batch  100/1077 - Train Accuracy: 0.7277, Validation Accuracy: 0.7273, Loss: 0.4020\n",
      "Epoch   2 Batch  200/1077 - Train Accuracy: 0.7137, Validation Accuracy: 0.7482, Loss: 0.3916\n",
      "Epoch   2 Batch  300/1077 - Train Accuracy: 0.7792, Validation Accuracy: 0.7557, Loss: 0.3619\n",
      "Epoch   2 Batch  400/1077 - Train Accuracy: 0.7816, Validation Accuracy: 0.7564, Loss: 0.3411\n",
      "Epoch   2 Batch  500/1077 - Train Accuracy: 0.7867, Validation Accuracy: 0.7788, Loss: 0.3137\n",
      "Epoch   2 Batch  600/1077 - Train Accuracy: 0.8025, Validation Accuracy: 0.7599, Loss: 0.2837\n",
      "Epoch   2 Batch  700/1077 - Train Accuracy: 0.8207, Validation Accuracy: 0.7862, Loss: 0.2618\n",
      "Epoch   2 Batch  800/1077 - Train Accuracy: 0.8016, Validation Accuracy: 0.8075, Loss: 0.2684\n",
      "Epoch   2 Batch  900/1077 - Train Accuracy: 0.8465, Validation Accuracy: 0.8004, Loss: 0.2614\n",
      "Epoch   2 Batch 1000/1077 - Train Accuracy: 0.8512, Validation Accuracy: 0.8075, Loss: 0.2231\n",
      "Epoch   3 Batch  100/1077 - Train Accuracy: 0.8449, Validation Accuracy: 0.8430, Loss: 0.2255\n",
      "Epoch   3 Batch  200/1077 - Train Accuracy: 0.8316, Validation Accuracy: 0.8569, Loss: 0.2228\n",
      "Epoch   3 Batch  300/1077 - Train Accuracy: 0.8984, Validation Accuracy: 0.8384, Loss: 0.1918\n",
      "Epoch   3 Batch  400/1077 - Train Accuracy: 0.8613, Validation Accuracy: 0.8406, Loss: 0.1958\n",
      "Epoch   3 Batch  500/1077 - Train Accuracy: 0.8738, Validation Accuracy: 0.8651, Loss: 0.1742\n",
      "Epoch   3 Batch  600/1077 - Train Accuracy: 0.8519, Validation Accuracy: 0.8445, Loss: 0.1585\n",
      "Epoch   3 Batch  700/1077 - Train Accuracy: 0.9141, Validation Accuracy: 0.8509, Loss: 0.1415\n",
      "Epoch   3 Batch  800/1077 - Train Accuracy: 0.8785, Validation Accuracy: 0.8761, Loss: 0.1476\n",
      "Epoch   3 Batch  900/1077 - Train Accuracy: 0.9012, Validation Accuracy: 0.8501, Loss: 0.1473\n",
      "Epoch   3 Batch 1000/1077 - Train Accuracy: 0.8992, Validation Accuracy: 0.8846, Loss: 0.1237\n",
      "Epoch   4 Batch  100/1077 - Train Accuracy: 0.8875, Validation Accuracy: 0.8782, Loss: 0.1220\n",
      "Epoch   4 Batch  200/1077 - Train Accuracy: 0.9031, Validation Accuracy: 0.8786, Loss: 0.1244\n",
      "Epoch   4 Batch  300/1077 - Train Accuracy: 0.9280, Validation Accuracy: 0.8903, Loss: 0.0978\n",
      "Epoch   4 Batch  400/1077 - Train Accuracy: 0.9324, Validation Accuracy: 0.8878, Loss: 0.1107\n",
      "Epoch   4 Batch  500/1077 - Train Accuracy: 0.9207, Validation Accuracy: 0.8874, Loss: 0.0873\n",
      "Epoch   4 Batch  600/1077 - Train Accuracy: 0.9189, Validation Accuracy: 0.8981, Loss: 0.0910\n",
      "Epoch   4 Batch  700/1077 - Train Accuracy: 0.9344, Validation Accuracy: 0.8942, Loss: 0.0725\n",
      "Epoch   4 Batch  800/1077 - Train Accuracy: 0.9328, Validation Accuracy: 0.9062, Loss: 0.0797\n",
      "Epoch   4 Batch  900/1077 - Train Accuracy: 0.9246, Validation Accuracy: 0.9148, Loss: 0.0880\n",
      "Epoch   4 Batch 1000/1077 - Train Accuracy: 0.9234, Validation Accuracy: 0.8910, Loss: 0.0766\n",
      "Epoch   5 Batch  100/1077 - Train Accuracy: 0.9277, Validation Accuracy: 0.9180, Loss: 0.0621\n",
      "Epoch   5 Batch  200/1077 - Train Accuracy: 0.9320, Validation Accuracy: 0.9183, Loss: 0.0716\n",
      "Epoch   5 Batch  300/1077 - Train Accuracy: 0.9605, Validation Accuracy: 0.9073, Loss: 0.0558\n",
      "Epoch   5 Batch  400/1077 - Train Accuracy: 0.9324, Validation Accuracy: 0.9041, Loss: 0.0708\n",
      "Epoch   5 Batch  500/1077 - Train Accuracy: 0.9527, Validation Accuracy: 0.9233, Loss: 0.0505\n",
      "Epoch   5 Batch  600/1077 - Train Accuracy: 0.9267, Validation Accuracy: 0.9286, Loss: 0.0568\n",
      "Epoch   5 Batch  700/1077 - Train Accuracy: 0.9641, Validation Accuracy: 0.9077, Loss: 0.0459\n",
      "Epoch   5 Batch  800/1077 - Train Accuracy: 0.9301, Validation Accuracy: 0.9418, Loss: 0.0553\n",
      "Epoch   5 Batch  900/1077 - Train Accuracy: 0.9477, Validation Accuracy: 0.9315, Loss: 0.0588\n",
      "Epoch   5 Batch 1000/1077 - Train Accuracy: 0.9312, Validation Accuracy: 0.9194, Loss: 0.0536\n",
      "Epoch   6 Batch  100/1077 - Train Accuracy: 0.9457, Validation Accuracy: 0.9421, Loss: 0.0438\n",
      "Epoch   6 Batch  200/1077 - Train Accuracy: 0.9352, Validation Accuracy: 0.9347, Loss: 0.0502\n",
      "Epoch   6 Batch  300/1077 - Train Accuracy: 0.9618, Validation Accuracy: 0.9169, Loss: 0.0383\n",
      "Epoch   6 Batch  400/1077 - Train Accuracy: 0.9391, Validation Accuracy: 0.9361, Loss: 0.0535\n",
      "Epoch   6 Batch  500/1077 - Train Accuracy: 0.9598, Validation Accuracy: 0.9180, Loss: 0.0346\n",
      "Epoch   6 Batch  600/1077 - Train Accuracy: 0.9435, Validation Accuracy: 0.9371, Loss: 0.0434\n",
      "Epoch   6 Batch  700/1077 - Train Accuracy: 0.9563, Validation Accuracy: 0.9300, Loss: 0.0328\n",
      "Epoch   6 Batch  800/1077 - Train Accuracy: 0.9449, Validation Accuracy: 0.9641, Loss: 0.0435\n",
      "Epoch   6 Batch  900/1077 - Train Accuracy: 0.9582, Validation Accuracy: 0.9442, Loss: 0.0478\n",
      "Epoch   6 Batch 1000/1077 - Train Accuracy: 0.9401, Validation Accuracy: 0.9332, Loss: 0.0392\n",
      "Epoch   7 Batch  100/1077 - Train Accuracy: 0.9539, Validation Accuracy: 0.9482, Loss: 0.0336\n",
      "Epoch   7 Batch  200/1077 - Train Accuracy: 0.9590, Validation Accuracy: 0.9528, Loss: 0.0369\n",
      "Epoch   7 Batch  300/1077 - Train Accuracy: 0.9671, Validation Accuracy: 0.9375, Loss: 0.0305\n",
      "Epoch   7 Batch  400/1077 - Train Accuracy: 0.9680, Validation Accuracy: 0.9581, Loss: 0.0427\n",
      "Epoch   7 Batch  500/1077 - Train Accuracy: 0.9656, Validation Accuracy: 0.9357, Loss: 0.0274\n",
      "Epoch   7 Batch  600/1077 - Train Accuracy: 0.9550, Validation Accuracy: 0.9567, Loss: 0.0337\n",
      "Epoch   7 Batch  700/1077 - Train Accuracy: 0.9621, Validation Accuracy: 0.9361, Loss: 0.0264\n",
      "Epoch   7 Batch  800/1077 - Train Accuracy: 0.9574, Validation Accuracy: 0.9648, Loss: 0.0349\n",
      "Epoch   7 Batch  900/1077 - Train Accuracy: 0.9547, Validation Accuracy: 0.9499, Loss: 0.0399\n",
      "Epoch   7 Batch 1000/1077 - Train Accuracy: 0.9438, Validation Accuracy: 0.9446, Loss: 0.0320\n",
      "Epoch   8 Batch  100/1077 - Train Accuracy: 0.9648, Validation Accuracy: 0.9581, Loss: 0.0283\n",
      "Epoch   8 Batch  200/1077 - Train Accuracy: 0.9539, Validation Accuracy: 0.9524, Loss: 0.0307\n",
      "Epoch   8 Batch  300/1077 - Train Accuracy: 0.9790, Validation Accuracy: 0.9446, Loss: 0.0270\n",
      "Epoch   8 Batch  400/1077 - Train Accuracy: 0.9711, Validation Accuracy: 0.9641, Loss: 0.0340\n",
      "Epoch   8 Batch  500/1077 - Train Accuracy: 0.9711, Validation Accuracy: 0.9464, Loss: 0.0247\n",
      "Epoch   8 Batch  600/1077 - Train Accuracy: 0.9613, Validation Accuracy: 0.9581, Loss: 0.0276\n",
      "Epoch   8 Batch  700/1077 - Train Accuracy: 0.9840, Validation Accuracy: 0.9318, Loss: 0.0216\n",
      "Epoch   8 Batch  800/1077 - Train Accuracy: 0.9719, Validation Accuracy: 0.9790, Loss: 0.0283\n"
     ]
    },
    {
     "name": "stdout",
     "output_type": "stream",
     "text": [
      "Epoch   8 Batch  900/1077 - Train Accuracy: 0.9566, Validation Accuracy: 0.9602, Loss: 0.0336\n",
      "Epoch   8 Batch 1000/1077 - Train Accuracy: 0.9494, Validation Accuracy: 0.9609, Loss: 0.0276\n",
      "Epoch   9 Batch  100/1077 - Train Accuracy: 0.9668, Validation Accuracy: 0.9656, Loss: 0.0213\n",
      "Epoch   9 Batch  200/1077 - Train Accuracy: 0.9688, Validation Accuracy: 0.9524, Loss: 0.0237\n",
      "Epoch   9 Batch  300/1077 - Train Accuracy: 0.9725, Validation Accuracy: 0.9585, Loss: 0.0200\n",
      "Epoch   9 Batch  400/1077 - Train Accuracy: 0.9707, Validation Accuracy: 0.9688, Loss: 0.0300\n",
      "Epoch   9 Batch  500/1077 - Train Accuracy: 0.9668, Validation Accuracy: 0.9609, Loss: 0.0204\n",
      "Epoch   9 Batch  600/1077 - Train Accuracy: 0.9714, Validation Accuracy: 0.9545, Loss: 0.0241\n",
      "Epoch   9 Batch  700/1077 - Train Accuracy: 0.9781, Validation Accuracy: 0.9524, Loss: 0.0174\n",
      "Epoch   9 Batch  800/1077 - Train Accuracy: 0.9617, Validation Accuracy: 0.9585, Loss: 0.0260\n",
      "Epoch   9 Batch  900/1077 - Train Accuracy: 0.9609, Validation Accuracy: 0.9695, Loss: 0.0291\n",
      "Epoch   9 Batch 1000/1077 - Train Accuracy: 0.9446, Validation Accuracy: 0.9606, Loss: 0.0243\n",
      "Epoch  10 Batch  100/1077 - Train Accuracy: 0.9789, Validation Accuracy: 0.9663, Loss: 0.0181\n",
      "Epoch  10 Batch  200/1077 - Train Accuracy: 0.9699, Validation Accuracy: 0.9570, Loss: 0.0216\n",
      "Epoch  10 Batch  300/1077 - Train Accuracy: 0.9729, Validation Accuracy: 0.9560, Loss: 0.0184\n",
      "Epoch  10 Batch  400/1077 - Train Accuracy: 0.9734, Validation Accuracy: 0.9691, Loss: 0.0246\n",
      "Epoch  10 Batch  500/1077 - Train Accuracy: 0.9672, Validation Accuracy: 0.9581, Loss: 0.0187\n",
      "Epoch  10 Batch  600/1077 - Train Accuracy: 0.9788, Validation Accuracy: 0.9734, Loss: 0.0209\n",
      "Epoch  10 Batch  700/1077 - Train Accuracy: 0.9785, Validation Accuracy: 0.9606, Loss: 0.0165\n",
      "Epoch  10 Batch  800/1077 - Train Accuracy: 0.9625, Validation Accuracy: 0.9783, Loss: 0.0193\n",
      "Epoch  10 Batch  900/1077 - Train Accuracy: 0.9688, Validation Accuracy: 0.9599, Loss: 0.0278\n",
      "Epoch  10 Batch 1000/1077 - Train Accuracy: 0.9554, Validation Accuracy: 0.9677, Loss: 0.0205\n",
      "Epoch  11 Batch  100/1077 - Train Accuracy: 0.9766, Validation Accuracy: 0.9688, Loss: 0.0175\n",
      "Epoch  11 Batch  200/1077 - Train Accuracy: 0.9738, Validation Accuracy: 0.9641, Loss: 0.0186\n",
      "Epoch  11 Batch  300/1077 - Train Accuracy: 0.9799, Validation Accuracy: 0.9553, Loss: 0.0150\n",
      "Epoch  11 Batch  400/1077 - Train Accuracy: 0.9773, Validation Accuracy: 0.9709, Loss: 0.0211\n",
      "Epoch  11 Batch  500/1077 - Train Accuracy: 0.9734, Validation Accuracy: 0.9695, Loss: 0.0176\n",
      "Epoch  11 Batch  600/1077 - Train Accuracy: 0.9710, Validation Accuracy: 0.9702, Loss: 0.0174\n",
      "Epoch  11 Batch  700/1077 - Train Accuracy: 0.9898, Validation Accuracy: 0.9680, Loss: 0.0142\n",
      "Epoch  11 Batch  800/1077 - Train Accuracy: 0.9629, Validation Accuracy: 0.9780, Loss: 0.0180\n",
      "Epoch  11 Batch  900/1077 - Train Accuracy: 0.9648, Validation Accuracy: 0.9773, Loss: 0.0224\n",
      "Epoch  11 Batch 1000/1077 - Train Accuracy: 0.9568, Validation Accuracy: 0.9677, Loss: 0.0181\n",
      "Epoch  12 Batch  100/1077 - Train Accuracy: 0.9809, Validation Accuracy: 0.9670, Loss: 0.0138\n",
      "Epoch  12 Batch  200/1077 - Train Accuracy: 0.9699, Validation Accuracy: 0.9627, Loss: 0.0159\n",
      "Epoch  12 Batch  300/1077 - Train Accuracy: 0.9799, Validation Accuracy: 0.9389, Loss: 0.0177\n",
      "Epoch  12 Batch  400/1077 - Train Accuracy: 0.9719, Validation Accuracy: 0.9712, Loss: 0.0187\n",
      "Epoch  12 Batch  500/1077 - Train Accuracy: 0.9750, Validation Accuracy: 0.9627, Loss: 0.0158\n",
      "Epoch  12 Batch  600/1077 - Train Accuracy: 0.9862, Validation Accuracy: 0.9698, Loss: 0.0174\n",
      "Epoch  12 Batch  700/1077 - Train Accuracy: 0.9914, Validation Accuracy: 0.9553, Loss: 0.0124\n",
      "Epoch  12 Batch  800/1077 - Train Accuracy: 0.9746, Validation Accuracy: 0.9702, Loss: 0.0155\n",
      "Epoch  12 Batch  900/1077 - Train Accuracy: 0.9715, Validation Accuracy: 0.9773, Loss: 0.0221\n",
      "Epoch  12 Batch 1000/1077 - Train Accuracy: 0.9498, Validation Accuracy: 0.9656, Loss: 0.0187\n",
      "Epoch  13 Batch  100/1077 - Train Accuracy: 0.9840, Validation Accuracy: 0.9705, Loss: 0.0158\n",
      "Epoch  13 Batch  200/1077 - Train Accuracy: 0.9754, Validation Accuracy: 0.9730, Loss: 0.0143\n",
      "Epoch  13 Batch  300/1077 - Train Accuracy: 0.9745, Validation Accuracy: 0.9606, Loss: 0.0130\n",
      "Epoch  13 Batch  400/1077 - Train Accuracy: 0.9770, Validation Accuracy: 0.9716, Loss: 0.0182\n",
      "Epoch  13 Batch  500/1077 - Train Accuracy: 0.9652, Validation Accuracy: 0.9737, Loss: 0.0147\n",
      "Epoch  13 Batch  600/1077 - Train Accuracy: 0.9862, Validation Accuracy: 0.9769, Loss: 0.0155\n",
      "Epoch  13 Batch  700/1077 - Train Accuracy: 0.9938, Validation Accuracy: 0.9723, Loss: 0.0110\n",
      "Epoch  13 Batch  800/1077 - Train Accuracy: 0.9758, Validation Accuracy: 0.9744, Loss: 0.0145\n",
      "Epoch  13 Batch  900/1077 - Train Accuracy: 0.9758, Validation Accuracy: 0.9773, Loss: 0.0193\n",
      "Epoch  13 Batch 1000/1077 - Train Accuracy: 0.9639, Validation Accuracy: 0.9688, Loss: 0.0155\n",
      "Epoch  14 Batch  100/1077 - Train Accuracy: 0.9871, Validation Accuracy: 0.9748, Loss: 0.0129\n",
      "Epoch  14 Batch  200/1077 - Train Accuracy: 0.9719, Validation Accuracy: 0.9648, Loss: 0.0136\n",
      "Epoch  14 Batch  300/1077 - Train Accuracy: 0.9868, Validation Accuracy: 0.9492, Loss: 0.0130\n",
      "Epoch  14 Batch  400/1077 - Train Accuracy: 0.9773, Validation Accuracy: 0.9702, Loss: 0.0150\n",
      "Epoch  14 Batch  500/1077 - Train Accuracy: 0.9691, Validation Accuracy: 0.9766, Loss: 0.0140\n",
      "Epoch  14 Batch  600/1077 - Train Accuracy: 0.9888, Validation Accuracy: 0.9751, Loss: 0.0139\n",
      "Epoch  14 Batch  700/1077 - Train Accuracy: 0.9918, Validation Accuracy: 0.9805, Loss: 0.0109\n",
      "Epoch  14 Batch  800/1077 - Train Accuracy: 0.9742, Validation Accuracy: 0.9751, Loss: 0.0135\n",
      "Epoch  14 Batch  900/1077 - Train Accuracy: 0.9840, Validation Accuracy: 0.9776, Loss: 0.0178\n",
      "Epoch  14 Batch 1000/1077 - Train Accuracy: 0.9669, Validation Accuracy: 0.9670, Loss: 0.0139\n",
      "Epoch  15 Batch  100/1077 - Train Accuracy: 0.9922, Validation Accuracy: 0.9769, Loss: 0.0120\n",
      "Epoch  15 Batch  200/1077 - Train Accuracy: 0.9789, Validation Accuracy: 0.9730, Loss: 0.0119\n",
      "Epoch  15 Batch  300/1077 - Train Accuracy: 0.9803, Validation Accuracy: 0.9549, Loss: 0.0119\n",
      "Epoch  15 Batch  400/1077 - Train Accuracy: 0.9773, Validation Accuracy: 0.9734, Loss: 0.0151\n",
      "Epoch  15 Batch  500/1077 - Train Accuracy: 0.9750, Validation Accuracy: 0.9790, Loss: 0.0129\n",
      "Epoch  15 Batch  600/1077 - Train Accuracy: 0.9844, Validation Accuracy: 0.9688, Loss: 0.0118\n",
      "Epoch  15 Batch  700/1077 - Train Accuracy: 0.9898, Validation Accuracy: 0.9730, Loss: 0.0099\n",
      "Epoch  15 Batch  800/1077 - Train Accuracy: 0.9816, Validation Accuracy: 0.9741, Loss: 0.0102\n",
      "Epoch  15 Batch  900/1077 - Train Accuracy: 0.9734, Validation Accuracy: 0.9794, Loss: 0.0170\n",
      "Epoch  15 Batch 1000/1077 - Train Accuracy: 0.9732, Validation Accuracy: 0.9705, Loss: 0.0129\n",
      "Epoch  16 Batch  100/1077 - Train Accuracy: 0.9926, Validation Accuracy: 0.9716, Loss: 0.0108\n",
      "Epoch  16 Batch  200/1077 - Train Accuracy: 0.9816, Validation Accuracy: 0.9652, Loss: 0.0121\n",
      "Epoch  16 Batch  300/1077 - Train Accuracy: 0.9811, Validation Accuracy: 0.9616, Loss: 0.0106\n",
      "Epoch  16 Batch  400/1077 - Train Accuracy: 0.9750, Validation Accuracy: 0.9634, Loss: 0.0107\n",
      "Epoch  16 Batch  500/1077 - Train Accuracy: 0.9805, Validation Accuracy: 0.9780, Loss: 0.0103\n",
      "Epoch  16 Batch  600/1077 - Train Accuracy: 0.9900, Validation Accuracy: 0.9769, Loss: 0.0126\n",
      "Epoch  16 Batch  700/1077 - Train Accuracy: 0.9941, Validation Accuracy: 0.9776, Loss: 0.0085\n",
      "Epoch  16 Batch  800/1077 - Train Accuracy: 0.9820, Validation Accuracy: 0.9773, Loss: 0.0112\n",
      "Epoch  16 Batch  900/1077 - Train Accuracy: 0.9676, Validation Accuracy: 0.9712, Loss: 0.0168\n",
      "Epoch  16 Batch 1000/1077 - Train Accuracy: 0.9762, Validation Accuracy: 0.9702, Loss: 0.0132\n",
      "Epoch  17 Batch  100/1077 - Train Accuracy: 0.9914, Validation Accuracy: 0.9723, Loss: 0.0084\n",
      "Epoch  17 Batch  200/1077 - Train Accuracy: 0.9883, Validation Accuracy: 0.9702, Loss: 0.0105\n",
      "Epoch  17 Batch  300/1077 - Train Accuracy: 0.9782, Validation Accuracy: 0.9670, Loss: 0.0109\n",
      "Epoch  17 Batch  400/1077 - Train Accuracy: 0.9789, Validation Accuracy: 0.9585, Loss: 0.0122\n",
      "Epoch  17 Batch  500/1077 - Train Accuracy: 0.9746, Validation Accuracy: 0.9755, Loss: 0.0131\n",
      "Epoch  17 Batch  600/1077 - Train Accuracy: 0.9900, Validation Accuracy: 0.9812, Loss: 0.0100\n"
     ]
    },
    {
     "name": "stdout",
     "output_type": "stream",
     "text": [
      "Epoch  17 Batch  700/1077 - Train Accuracy: 0.9934, Validation Accuracy: 0.9769, Loss: 0.0078\n",
      "Epoch  17 Batch  800/1077 - Train Accuracy: 0.9949, Validation Accuracy: 0.9741, Loss: 0.0092\n",
      "Epoch  17 Batch  900/1077 - Train Accuracy: 0.9848, Validation Accuracy: 0.9744, Loss: 0.0142\n",
      "Epoch  17 Batch 1000/1077 - Train Accuracy: 0.9650, Validation Accuracy: 0.9688, Loss: 0.0119\n",
      "Epoch  18 Batch  100/1077 - Train Accuracy: 0.9930, Validation Accuracy: 0.9723, Loss: 0.0079\n",
      "Epoch  18 Batch  200/1077 - Train Accuracy: 0.9840, Validation Accuracy: 0.9709, Loss: 0.0103\n",
      "Epoch  18 Batch  300/1077 - Train Accuracy: 0.9811, Validation Accuracy: 0.9716, Loss: 0.0115\n",
      "Epoch  18 Batch  400/1077 - Train Accuracy: 0.9781, Validation Accuracy: 0.9620, Loss: 0.0108\n",
      "Epoch  18 Batch  500/1077 - Train Accuracy: 0.9820, Validation Accuracy: 0.9790, Loss: 0.0112\n",
      "Epoch  18 Batch  600/1077 - Train Accuracy: 0.9929, Validation Accuracy: 0.9815, Loss: 0.0100\n",
      "Epoch  18 Batch  700/1077 - Train Accuracy: 0.9895, Validation Accuracy: 0.9730, Loss: 0.0078\n",
      "Epoch  18 Batch  800/1077 - Train Accuracy: 0.9848, Validation Accuracy: 0.9723, Loss: 0.0075\n",
      "Epoch  18 Batch  900/1077 - Train Accuracy: 0.9797, Validation Accuracy: 0.9911, Loss: 0.0140\n",
      "Epoch  18 Batch 1000/1077 - Train Accuracy: 0.9732, Validation Accuracy: 0.9822, Loss: 0.0124\n",
      "Epoch  19 Batch  100/1077 - Train Accuracy: 0.9852, Validation Accuracy: 0.9727, Loss: 0.0080\n",
      "Epoch  19 Batch  200/1077 - Train Accuracy: 0.9922, Validation Accuracy: 0.9794, Loss: 0.0080\n",
      "Epoch  19 Batch  300/1077 - Train Accuracy: 0.9753, Validation Accuracy: 0.9606, Loss: 0.0097\n",
      "Epoch  19 Batch  400/1077 - Train Accuracy: 0.9840, Validation Accuracy: 0.9748, Loss: 0.0097\n",
      "Epoch  19 Batch  500/1077 - Train Accuracy: 0.9848, Validation Accuracy: 0.9695, Loss: 0.0117\n",
      "Epoch  19 Batch  600/1077 - Train Accuracy: 0.9922, Validation Accuracy: 0.9727, Loss: 0.0112\n",
      "Epoch  19 Batch  700/1077 - Train Accuracy: 0.9859, Validation Accuracy: 0.9723, Loss: 0.0076\n",
      "Epoch  19 Batch  800/1077 - Train Accuracy: 0.9887, Validation Accuracy: 0.9684, Loss: 0.0088\n",
      "Epoch  19 Batch  900/1077 - Train Accuracy: 0.9793, Validation Accuracy: 0.9773, Loss: 0.0144\n",
      "Epoch  19 Batch 1000/1077 - Train Accuracy: 0.9736, Validation Accuracy: 0.9844, Loss: 0.0115\n",
      "Model Trained and Saved\n"
     ]
    }
   ],
   "source": [
    "\"\"\"\n",
    "DON'T MODIFY ANYTHING IN THIS CELL\n",
    "\"\"\"\n",
    "def get_accuracy(target, logits):\n",
    "    \"\"\"\n",
    "    Calculate accuracy\n",
    "    \"\"\"\n",
    "    max_seq = max(target.shape[1], logits.shape[1])\n",
    "    if max_seq - target.shape[1]:\n",
    "        target = np.pad(\n",
    "            target,\n",
    "            [(0,0),(0,max_seq - target.shape[1])],\n",
    "            'constant')\n",
    "    if max_seq - logits.shape[1]:\n",
    "        logits = np.pad(\n",
    "            logits,\n",
    "            [(0,0),(0,max_seq - logits.shape[1])],\n",
    "            'constant')\n",
    "\n",
    "    return np.mean(np.equal(target, logits))\n",
    "\n",
    "# Split data to training and validation sets\n",
    "train_source = source_int_text[batch_size:]\n",
    "train_target = target_int_text[batch_size:]\n",
    "valid_source = source_int_text[:batch_size]\n",
    "valid_target = target_int_text[:batch_size]\n",
    "(valid_sources_batch, valid_targets_batch, valid_sources_lengths, valid_targets_lengths ) = next(get_batches(valid_source,\n",
    "                                                                                                             valid_target,\n",
    "                                                                                                             batch_size,\n",
    "                                                                                                             source_vocab_to_int['<PAD>'],\n",
    "                                                                                                             target_vocab_to_int['<PAD>']))                                                                                                  \n",
    "with tf.Session(graph=train_graph) as sess:\n",
    "    sess.run(tf.global_variables_initializer())\n",
    "\n",
    "    for epoch_i in range(epochs):\n",
    "        for batch_i, (source_batch, target_batch, sources_lengths, targets_lengths) in enumerate(\n",
    "                get_batches(train_source, train_target, batch_size,\n",
    "                            source_vocab_to_int['<PAD>'],\n",
    "                            target_vocab_to_int['<PAD>'])):\n",
    "\n",
    "            _, loss = sess.run(\n",
    "                [train_op, cost],\n",
    "                {input_data: source_batch,\n",
    "                 targets: target_batch,\n",
    "                 lr: learning_rate,\n",
    "                 target_sequence_length: targets_lengths,\n",
    "                 source_sequence_length: sources_lengths,\n",
    "                 keep_prob: keep_probability})\n",
    "\n",
    "\n",
    "            if batch_i % display_step == 0 and batch_i > 0:\n",
    "\n",
    "\n",
    "                batch_train_logits = sess.run(\n",
    "                    inference_logits,\n",
    "                    {input_data: source_batch,\n",
    "                     source_sequence_length: sources_lengths,\n",
    "                     target_sequence_length: targets_lengths,\n",
    "                     keep_prob: 1.0})\n",
    "\n",
    "\n",
    "                batch_valid_logits = sess.run(\n",
    "                    inference_logits,\n",
    "                    {input_data: valid_sources_batch,\n",
    "                     source_sequence_length: valid_sources_lengths,\n",
    "                     target_sequence_length: valid_targets_lengths,\n",
    "                     keep_prob: 1.0})\n",
    "\n",
    "                train_acc = get_accuracy(target_batch, batch_train_logits)\n",
    "\n",
    "                valid_acc = get_accuracy(valid_targets_batch, batch_valid_logits)\n",
    "\n",
    "                print('Epoch {:>3} Batch {:>4}/{} - Train Accuracy: {:>6.4f}, Validation Accuracy: {:>6.4f}, Loss: {:>6.4f}'\n",
    "                      .format(epoch_i, batch_i, len(source_int_text) // batch_size, train_acc, valid_acc, loss))\n",
    "\n",
    "    # Save Model\n",
    "    saver = tf.train.Saver()\n",
    "    saver.save(sess, save_path)\n",
    "    print('Model Trained and Saved')"
   ]
  },
  {
   "cell_type": "markdown",
   "metadata": {},
   "source": [
    "### Save Parameters\n",
    "Save the `batch_size` and `save_path` parameters for inference."
   ]
  },
  {
   "cell_type": "code",
   "execution_count": 18,
   "metadata": {
    "collapsed": true
   },
   "outputs": [],
   "source": [
    "\"\"\"\n",
    "DON'T MODIFY ANYTHING IN THIS CELL\n",
    "\"\"\"\n",
    "# Save parameters for checkpoint\n",
    "helper.save_params(save_path)"
   ]
  },
  {
   "cell_type": "markdown",
   "metadata": {},
   "source": [
    "# Checkpoint"
   ]
  },
  {
   "cell_type": "code",
   "execution_count": 19,
   "metadata": {
    "collapsed": true
   },
   "outputs": [],
   "source": [
    "\"\"\"\n",
    "DON'T MODIFY ANYTHING IN THIS CELL\n",
    "\"\"\"\n",
    "import tensorflow as tf\n",
    "import numpy as np\n",
    "import helper\n",
    "import problem_unittests as tests\n",
    "\n",
    "_, (source_vocab_to_int, target_vocab_to_int), (source_int_to_vocab, target_int_to_vocab) = helper.load_preprocess()\n",
    "load_path = helper.load_params()"
   ]
  },
  {
   "cell_type": "markdown",
   "metadata": {},
   "source": [
    "## Sentence to Sequence\n",
    "To feed a sentence into the model for translation, you first need to preprocess it.  Implement the function `sentence_to_seq()` to preprocess new sentences.\n",
    "\n",
    "- Convert the sentence to lowercase\n",
    "- Convert words into ids using `vocab_to_int`\n",
    " - Convert words not in the vocabulary, to the `<UNK>` word id."
   ]
  },
  {
   "cell_type": "code",
   "execution_count": 20,
   "metadata": {},
   "outputs": [
    {
     "name": "stdout",
     "output_type": "stream",
     "text": [
      "Tests Passed\n"
     ]
    }
   ],
   "source": [
    "def sentence_to_seq(sentence, vocab_to_int):\n",
    "    \"\"\"\n",
    "    Convert a sentence to a sequence of ids\n",
    "    :param sentence: String\n",
    "    :param vocab_to_int: Dictionary to go from the words to an id\n",
    "    :return: List of word ids\n",
    "    \"\"\"\n",
    "    # TODO: Implement Function\n",
    "    s = sentence.lower().split()\n",
    "    l = [w if w in vocab_to_int.keys() else '<UNK>' for w in s]\n",
    "    return [vocab_to_int[w] for w in l]\n",
    "\n",
    "\n",
    "\"\"\"\n",
    "DON'T MODIFY ANYTHING IN THIS CELL THAT IS BELOW THIS LINE\n",
    "\"\"\"\n",
    "tests.test_sentence_to_seq(sentence_to_seq)"
   ]
  },
  {
   "cell_type": "markdown",
   "metadata": {},
   "source": [
    "## Translate\n",
    "This will translate `translate_sentence` from English to French."
   ]
  },
  {
   "cell_type": "code",
   "execution_count": 21,
   "metadata": {},
   "outputs": [
    {
     "name": "stdout",
     "output_type": "stream",
     "text": [
      "INFO:tensorflow:Restoring parameters from checkpoints/dev\n",
      "Input\n",
      "  Word Ids:      [177, 77, 142, 149, 59, 176, 54]\n",
      "  English Words: ['he', 'saw', 'a', 'old', 'yellow', 'truck', '.']\n",
      "\n",
      "Prediction\n",
      "  Word Ids:      [134, 150, 78, 202, 350, 99, 1]\n",
      "  French Words: il a vu les noire . <EOS>\n"
     ]
    }
   ],
   "source": [
    "translate_sentence = 'he saw a old yellow truck .'\n",
    "\n",
    "\n",
    "\"\"\"\n",
    "DON'T MODIFY ANYTHING IN THIS CELL\n",
    "\"\"\"\n",
    "translate_sentence = sentence_to_seq(translate_sentence, source_vocab_to_int)\n",
    "\n",
    "loaded_graph = tf.Graph()\n",
    "with tf.Session(graph=loaded_graph) as sess:\n",
    "    # Load saved model\n",
    "    loader = tf.train.import_meta_graph(load_path + '.meta')\n",
    "    loader.restore(sess, load_path)\n",
    "\n",
    "    input_data = loaded_graph.get_tensor_by_name('input:0')\n",
    "    logits = loaded_graph.get_tensor_by_name('predictions:0')\n",
    "    target_sequence_length = loaded_graph.get_tensor_by_name('target_sequence_length:0')\n",
    "    source_sequence_length = loaded_graph.get_tensor_by_name('source_sequence_length:0')\n",
    "    keep_prob = loaded_graph.get_tensor_by_name('keep_prob:0')\n",
    "\n",
    "    translate_logits = sess.run(logits, {input_data: [translate_sentence]*batch_size,\n",
    "                                         target_sequence_length: [len(translate_sentence)*2]*batch_size,\n",
    "                                         source_sequence_length: [len(translate_sentence)]*batch_size,\n",
    "                                         keep_prob: 1.0})[0]\n",
    "\n",
    "print('Input')\n",
    "print('  Word Ids:      {}'.format([i for i in translate_sentence]))\n",
    "print('  English Words: {}'.format([source_int_to_vocab[i] for i in translate_sentence]))\n",
    "\n",
    "print('\\nPrediction')\n",
    "print('  Word Ids:      {}'.format([i for i in translate_logits]))\n",
    "print('  French Words: {}'.format(\" \".join([target_int_to_vocab[i] for i in translate_logits])))\n"
   ]
  },
  {
   "cell_type": "markdown",
   "metadata": {},
   "source": [
    "## Imperfect Translation\n",
    "You might notice that some sentences translate better than others.  Since the dataset you're using only has a vocabulary of 227 English words of the thousands that you use, you're only going to see good results using these words.  For this project, you don't need a perfect translation. However, if you want to create a better translation model, you'll need better data.\n",
    "\n",
    "You can train on the [WMT10 French-English corpus](http://www.statmt.org/wmt10/training-giga-fren.tar).  This dataset has more vocabulary and richer in topics discussed.  However, this will take you days to train, so make sure you've a GPU and the neural network is performing well on dataset we provided.  Just make sure you play with the WMT10 corpus after you've submitted this project.\n",
    "## Submitting This Project\n",
    "When submitting this project, make sure to run all the cells before saving the notebook. Save the notebook file as \"dlnd_language_translation.ipynb\" and save it as a HTML file under \"File\" -> \"Download as\". Include the \"helper.py\" and \"problem_unittests.py\" files in your submission."
   ]
  }
 ],
 "metadata": {
  "anaconda-cloud": {},
  "kernelspec": {
   "display_name": "Python 3",
   "language": "python",
   "name": "python3"
  },
  "language_info": {
   "codemirror_mode": {
    "name": "ipython",
    "version": 3
   },
   "file_extension": ".py",
   "mimetype": "text/x-python",
   "name": "python",
   "nbconvert_exporter": "python",
   "pygments_lexer": "ipython3",
   "version": "3.5.2"
  }
 },
 "nbformat": 4,
 "nbformat_minor": 1
}
